{
  "nbformat": 4,
  "nbformat_minor": 0,
  "metadata": {
    "colab": {
      "name": "홍은수_2018320228_ML기말프로젝트",
      "provenance": [],
      "collapsed_sections": [
        "whSGYO1UTyK_",
        "CxtJ8fO9U4AQ",
        "pX7YC3efVr_5",
        "6QQB9XmMdJGU",
        "joB4uYGVllgf",
        "isRf3iXtnnMA",
        "0PgEXPXFcUwA",
        "i7kXUQ_3s0BT",
        "7M5GrryMxQsb",
        "JWZ2JBIxyDjK",
        "D9nzDQswycdL",
        "eo7Bx-jky9ur",
        "O0At_ECz0atp",
        "plzcDtnP1fCX",
        "Yjpv9AhW19bL",
        "REl2TVJjlVE7",
        "38tPE16sxwK7",
        "NxREs14GxwLC",
        "YB3l0nCUxwLF",
        "NzEj67MZxwLJ",
        "deAFuG-0xwLM",
        "ZNaRTR_gxwLP",
        "dn2DehU1xwLR",
        "yETEQuN7xwLU",
        "QaIPDgnIxwLW"
      ],
      "toc_visible": true,
      "authorship_tag": "ABX9TyNbDnEKeD/xrWBgkIwBNhfF",
      "include_colab_link": true
    },
    "kernelspec": {
      "name": "python3",
      "display_name": "Python 3"
    }
  },
  "cells": [
    {
      "cell_type": "markdown",
      "metadata": {
        "id": "view-in-github",
        "colab_type": "text"
      },
      "source": [
        "<a href=\"https://colab.research.google.com/github/deltaori0/2020_Fall_ML/blob/master/wine_quality_classification.ipynb\" target=\"_parent\"><img src=\"https://colab.research.google.com/assets/colab-badge.svg\" alt=\"Open In Colab\"/></a>"
      ]
    },
    {
      "cell_type": "markdown",
      "metadata": {
        "id": "3-UL2upMR5od"
      },
      "source": [
        "# 기계학습 기말 텀 프로젝트\r\n",
        "\r\n",
        "작성자 : 2018320228 홍은수"
      ]
    },
    {
      "cell_type": "markdown",
      "metadata": {
        "id": "whSGYO1UTyK_"
      },
      "source": [
        "\r\n",
        "## Task Description\r\n",
        "\r\n",
        "Wine Quality Dataset을 사용하여 Classification/Clustering 모델을 생성 후 여러 기법들을 통해 최적의 모델을 찾고자 한다.\r\n",
        "\r\n",
        "Section 1. Base Case \r\n",
        "- 데이터 전처리\r\n",
        "- 파라미터 변경을 하지 않은 비교 기준이 되는 Base Classification Model 생성\r\n",
        "- Clustering 결과 분석\r\n",
        "\r\n",
        "Section 2. Feature Selection\r\n",
        "- RFE 기법을 사용하여 Feature Selection 진행\r\n",
        "- Feature Selection 적용한 Clustering 결과 분석\r\n",
        "\r\n",
        "Section 3. Optimize Models\r\n",
        "- Section 1과 2로부터 가장 성능이 좋은 모델 3가지를 골라 정확도 개선\r\n",
        "- Cross-Validation 사용\r\n",
        "\r\n",
        "Section 4. 최종 모델\r\n",
        "\r\n",
        "Section 5. 결과 분석\r\n"
      ]
    },
    {
      "cell_type": "markdown",
      "metadata": {
        "id": "JerxA-AuTsH4"
      },
      "source": [
        "## Data Description\r\n",
        "\r\n",
        "[Wine Quality Prediction](https://www.kaggle.com/rajyellow46/wine-quality) \r\n",
        "\r\n",
        "Total number of instances  : 6497 개\r\n",
        "\r\n",
        "Attributes (총 12 개)\r\n",
        "- type\r\n",
        "\r\n",
        "- fixed acidity\r\n",
        "\r\n",
        "- volatile acidity\r\n",
        "\r\n",
        "- citric acid\r\n",
        "\r\n",
        "- residual sugar\r\n",
        "\r\n",
        "- chlorides\r\n",
        "\r\n",
        "- free sulfur dioxide\r\n",
        "\r\n",
        "- total sulfur dioxide\r\n",
        "\r\n",
        "- density\r\n",
        "\r\n",
        "- pH\r\n",
        "\r\n",
        "- sulphates\r\n",
        "\r\n",
        "- alcohol\r\n",
        "\r\n",
        "Class (총 1 개)\r\n",
        "- quality (score between 0 and 10)\r\n",
        "- quality class는 good(1)과 bad(0)를 나타내는 grade로 변경할 예정"
      ]
    },
    {
      "cell_type": "markdown",
      "metadata": {
        "id": "VygtGV-0SlrE"
      },
      "source": [
        "## Section 1. Base Case"
      ]
    },
    {
      "cell_type": "markdown",
      "metadata": {
        "id": "juXcCnjrS77p"
      },
      "source": [
        "### 1. Pandas로 데이터 불러오기"
      ]
    },
    {
      "cell_type": "code",
      "metadata": {
        "colab": {
          "base_uri": "https://localhost:8080/",
          "height": 194
        },
        "id": "LvHSUkBfS0IC",
        "outputId": "7e27f763-b910-437f-d7c7-31812b8838fa"
      },
      "source": [
        "import pandas as pd\r\n",
        "\r\n",
        "# 1. 데이터 불러오기\r\n",
        "data_url = \"https://raw.githubusercontent.com/deltaori0/2020_Fall_ML/master/winequalityN.csv\"\r\n",
        "df_wine = pd.read_csv(data_url)\r\n",
        "df_wine.head()"
      ],
      "execution_count": null,
      "outputs": [
        {
          "output_type": "execute_result",
          "data": {
            "text/html": [
              "<div>\n",
              "<style scoped>\n",
              "    .dataframe tbody tr th:only-of-type {\n",
              "        vertical-align: middle;\n",
              "    }\n",
              "\n",
              "    .dataframe tbody tr th {\n",
              "        vertical-align: top;\n",
              "    }\n",
              "\n",
              "    .dataframe thead th {\n",
              "        text-align: right;\n",
              "    }\n",
              "</style>\n",
              "<table border=\"1\" class=\"dataframe\">\n",
              "  <thead>\n",
              "    <tr style=\"text-align: right;\">\n",
              "      <th></th>\n",
              "      <th>type</th>\n",
              "      <th>fixed acidity</th>\n",
              "      <th>volatile acidity</th>\n",
              "      <th>citric acid</th>\n",
              "      <th>residual sugar</th>\n",
              "      <th>chlorides</th>\n",
              "      <th>free sulfur dioxide</th>\n",
              "      <th>total sulfur dioxide</th>\n",
              "      <th>density</th>\n",
              "      <th>pH</th>\n",
              "      <th>sulphates</th>\n",
              "      <th>alcohol</th>\n",
              "      <th>quality</th>\n",
              "    </tr>\n",
              "  </thead>\n",
              "  <tbody>\n",
              "    <tr>\n",
              "      <th>0</th>\n",
              "      <td>white</td>\n",
              "      <td>7.0</td>\n",
              "      <td>0.27</td>\n",
              "      <td>0.36</td>\n",
              "      <td>20.7</td>\n",
              "      <td>0.045</td>\n",
              "      <td>45.0</td>\n",
              "      <td>170.0</td>\n",
              "      <td>1.0010</td>\n",
              "      <td>3.00</td>\n",
              "      <td>0.45</td>\n",
              "      <td>8.8</td>\n",
              "      <td>6</td>\n",
              "    </tr>\n",
              "    <tr>\n",
              "      <th>1</th>\n",
              "      <td>white</td>\n",
              "      <td>6.3</td>\n",
              "      <td>0.30</td>\n",
              "      <td>0.34</td>\n",
              "      <td>1.6</td>\n",
              "      <td>0.049</td>\n",
              "      <td>14.0</td>\n",
              "      <td>132.0</td>\n",
              "      <td>0.9940</td>\n",
              "      <td>3.30</td>\n",
              "      <td>0.49</td>\n",
              "      <td>9.5</td>\n",
              "      <td>6</td>\n",
              "    </tr>\n",
              "    <tr>\n",
              "      <th>2</th>\n",
              "      <td>white</td>\n",
              "      <td>8.1</td>\n",
              "      <td>0.28</td>\n",
              "      <td>0.40</td>\n",
              "      <td>6.9</td>\n",
              "      <td>0.050</td>\n",
              "      <td>30.0</td>\n",
              "      <td>97.0</td>\n",
              "      <td>0.9951</td>\n",
              "      <td>3.26</td>\n",
              "      <td>0.44</td>\n",
              "      <td>10.1</td>\n",
              "      <td>6</td>\n",
              "    </tr>\n",
              "    <tr>\n",
              "      <th>3</th>\n",
              "      <td>white</td>\n",
              "      <td>7.2</td>\n",
              "      <td>0.23</td>\n",
              "      <td>0.32</td>\n",
              "      <td>8.5</td>\n",
              "      <td>0.058</td>\n",
              "      <td>47.0</td>\n",
              "      <td>186.0</td>\n",
              "      <td>0.9956</td>\n",
              "      <td>3.19</td>\n",
              "      <td>0.40</td>\n",
              "      <td>9.9</td>\n",
              "      <td>6</td>\n",
              "    </tr>\n",
              "    <tr>\n",
              "      <th>4</th>\n",
              "      <td>white</td>\n",
              "      <td>7.2</td>\n",
              "      <td>0.23</td>\n",
              "      <td>0.32</td>\n",
              "      <td>8.5</td>\n",
              "      <td>0.058</td>\n",
              "      <td>47.0</td>\n",
              "      <td>186.0</td>\n",
              "      <td>0.9956</td>\n",
              "      <td>3.19</td>\n",
              "      <td>0.40</td>\n",
              "      <td>9.9</td>\n",
              "      <td>6</td>\n",
              "    </tr>\n",
              "  </tbody>\n",
              "</table>\n",
              "</div>"
            ],
            "text/plain": [
              "    type  fixed acidity  volatile acidity  ...  sulphates  alcohol  quality\n",
              "0  white            7.0              0.27  ...       0.45      8.8        6\n",
              "1  white            6.3              0.30  ...       0.49      9.5        6\n",
              "2  white            8.1              0.28  ...       0.44     10.1        6\n",
              "3  white            7.2              0.23  ...       0.40      9.9        6\n",
              "4  white            7.2              0.23  ...       0.40      9.9        6\n",
              "\n",
              "[5 rows x 13 columns]"
            ]
          },
          "metadata": {
            "tags": []
          },
          "execution_count": 1
        }
      ]
    },
    {
      "cell_type": "markdown",
      "metadata": {
        "id": "x-Ng8rW0Ue92"
      },
      "source": [
        "### 2. 데이터 전처리"
      ]
    },
    {
      "cell_type": "markdown",
      "metadata": {
        "id": "CxtJ8fO9U4AQ"
      },
      "source": [
        "#### 데이터 타입 맞춰주기"
      ]
    },
    {
      "cell_type": "code",
      "metadata": {
        "colab": {
          "base_uri": "https://localhost:8080/"
        },
        "id": "SyrfPddNUleI",
        "outputId": "70571acb-57ca-4a57-d9ef-a3303084a55c"
      },
      "source": [
        "# 데이터 타입 확인\r\n",
        "df_wine.dtypes"
      ],
      "execution_count": null,
      "outputs": [
        {
          "output_type": "execute_result",
          "data": {
            "text/plain": [
              "type                     object\n",
              "fixed acidity           float64\n",
              "volatile acidity        float64\n",
              "citric acid             float64\n",
              "residual sugar          float64\n",
              "chlorides               float64\n",
              "free sulfur dioxide     float64\n",
              "total sulfur dioxide    float64\n",
              "density                 float64\n",
              "pH                      float64\n",
              "sulphates               float64\n",
              "alcohol                 float64\n",
              "quality                   int64\n",
              "dtype: object"
            ]
          },
          "metadata": {
            "tags": []
          },
          "execution_count": 2
        }
      ]
    },
    {
      "cell_type": "code",
      "metadata": {
        "colab": {
          "base_uri": "https://localhost:8080/"
        },
        "id": "jZOa4SBCVZgI",
        "outputId": "892577c4-8e1b-4b89-ea10-96b90b2ab262"
      },
      "source": [
        "# object 타입을 category로 변경\r\n",
        "df_wine['type'] = df_wine['type'].astype('category')\r\n",
        "df_wine.dtypes"
      ],
      "execution_count": null,
      "outputs": [
        {
          "output_type": "execute_result",
          "data": {
            "text/plain": [
              "type                    category\n",
              "fixed acidity            float64\n",
              "volatile acidity         float64\n",
              "citric acid              float64\n",
              "residual sugar           float64\n",
              "chlorides                float64\n",
              "free sulfur dioxide      float64\n",
              "total sulfur dioxide     float64\n",
              "density                  float64\n",
              "pH                       float64\n",
              "sulphates                float64\n",
              "alcohol                  float64\n",
              "quality                    int64\n",
              "dtype: object"
            ]
          },
          "metadata": {
            "tags": []
          },
          "execution_count": 3
        }
      ]
    },
    {
      "cell_type": "markdown",
      "metadata": {
        "id": "pX7YC3efVr_5"
      },
      "source": [
        "#### 카테고리 데이터 정수로 인코딩"
      ]
    },
    {
      "cell_type": "code",
      "metadata": {
        "id": "Z9dbO8kBVv11"
      },
      "source": [
        "df_wine['type'] = df_wine['type'].cat.codes"
      ],
      "execution_count": null,
      "outputs": []
    },
    {
      "cell_type": "code",
      "metadata": {
        "colab": {
          "base_uri": "https://localhost:8080/"
        },
        "id": "T9Bp19QFXUxP",
        "outputId": "d561ef7f-ffc8-43dc-91f4-b9c1121693b0"
      },
      "source": [
        "df_wine.head()"
      ],
      "execution_count": null,
      "outputs": [
        {
          "output_type": "execute_result",
          "data": {
            "text/html": [
              "<div>\n",
              "<style scoped>\n",
              "    .dataframe tbody tr th:only-of-type {\n",
              "        vertical-align: middle;\n",
              "    }\n",
              "\n",
              "    .dataframe tbody tr th {\n",
              "        vertical-align: top;\n",
              "    }\n",
              "\n",
              "    .dataframe thead th {\n",
              "        text-align: right;\n",
              "    }\n",
              "</style>\n",
              "<table border=\"1\" class=\"dataframe\">\n",
              "  <thead>\n",
              "    <tr style=\"text-align: right;\">\n",
              "      <th></th>\n",
              "      <th>type</th>\n",
              "      <th>fixed acidity</th>\n",
              "      <th>volatile acidity</th>\n",
              "      <th>citric acid</th>\n",
              "      <th>residual sugar</th>\n",
              "      <th>chlorides</th>\n",
              "      <th>free sulfur dioxide</th>\n",
              "      <th>total sulfur dioxide</th>\n",
              "      <th>density</th>\n",
              "      <th>pH</th>\n",
              "      <th>sulphates</th>\n",
              "      <th>alcohol</th>\n",
              "      <th>quality</th>\n",
              "    </tr>\n",
              "  </thead>\n",
              "  <tbody>\n",
              "    <tr>\n",
              "      <th>0</th>\n",
              "      <td>1</td>\n",
              "      <td>7.0</td>\n",
              "      <td>0.27</td>\n",
              "      <td>0.36</td>\n",
              "      <td>20.7</td>\n",
              "      <td>0.045</td>\n",
              "      <td>45.0</td>\n",
              "      <td>170.0</td>\n",
              "      <td>1.0010</td>\n",
              "      <td>3.00</td>\n",
              "      <td>0.45</td>\n",
              "      <td>8.8</td>\n",
              "      <td>6</td>\n",
              "    </tr>\n",
              "    <tr>\n",
              "      <th>1</th>\n",
              "      <td>1</td>\n",
              "      <td>6.3</td>\n",
              "      <td>0.30</td>\n",
              "      <td>0.34</td>\n",
              "      <td>1.6</td>\n",
              "      <td>0.049</td>\n",
              "      <td>14.0</td>\n",
              "      <td>132.0</td>\n",
              "      <td>0.9940</td>\n",
              "      <td>3.30</td>\n",
              "      <td>0.49</td>\n",
              "      <td>9.5</td>\n",
              "      <td>6</td>\n",
              "    </tr>\n",
              "    <tr>\n",
              "      <th>2</th>\n",
              "      <td>1</td>\n",
              "      <td>8.1</td>\n",
              "      <td>0.28</td>\n",
              "      <td>0.40</td>\n",
              "      <td>6.9</td>\n",
              "      <td>0.050</td>\n",
              "      <td>30.0</td>\n",
              "      <td>97.0</td>\n",
              "      <td>0.9951</td>\n",
              "      <td>3.26</td>\n",
              "      <td>0.44</td>\n",
              "      <td>10.1</td>\n",
              "      <td>6</td>\n",
              "    </tr>\n",
              "    <tr>\n",
              "      <th>3</th>\n",
              "      <td>1</td>\n",
              "      <td>7.2</td>\n",
              "      <td>0.23</td>\n",
              "      <td>0.32</td>\n",
              "      <td>8.5</td>\n",
              "      <td>0.058</td>\n",
              "      <td>47.0</td>\n",
              "      <td>186.0</td>\n",
              "      <td>0.9956</td>\n",
              "      <td>3.19</td>\n",
              "      <td>0.40</td>\n",
              "      <td>9.9</td>\n",
              "      <td>6</td>\n",
              "    </tr>\n",
              "    <tr>\n",
              "      <th>4</th>\n",
              "      <td>1</td>\n",
              "      <td>7.2</td>\n",
              "      <td>0.23</td>\n",
              "      <td>0.32</td>\n",
              "      <td>8.5</td>\n",
              "      <td>0.058</td>\n",
              "      <td>47.0</td>\n",
              "      <td>186.0</td>\n",
              "      <td>0.9956</td>\n",
              "      <td>3.19</td>\n",
              "      <td>0.40</td>\n",
              "      <td>9.9</td>\n",
              "      <td>6</td>\n",
              "    </tr>\n",
              "  </tbody>\n",
              "</table>\n",
              "</div>"
            ],
            "text/plain": [
              "   type  fixed acidity  volatile acidity  ...  sulphates  alcohol  quality\n",
              "0     1            7.0              0.27  ...       0.45      8.8        6\n",
              "1     1            6.3              0.30  ...       0.49      9.5        6\n",
              "2     1            8.1              0.28  ...       0.44     10.1        6\n",
              "3     1            7.2              0.23  ...       0.40      9.9        6\n",
              "4     1            7.2              0.23  ...       0.40      9.9        6\n",
              "\n",
              "[5 rows x 13 columns]"
            ]
          },
          "metadata": {
            "tags": []
          },
          "execution_count": 5
        }
      ]
    },
    {
      "cell_type": "markdown",
      "metadata": {
        "id": "6QQB9XmMdJGU"
      },
      "source": [
        "#### Missing Value 핸들링\r\n",
        "\r\n",
        "데이터 분포를 보니 feature에 na 값이 있는 것을 확인할 수 있다. 이러한 행을 삭제한다."
      ]
    },
    {
      "cell_type": "code",
      "metadata": {
        "colab": {
          "base_uri": "https://localhost:8080/"
        },
        "id": "LwSYzNFndVYl",
        "outputId": "a6ba0a64-3392-44fd-ba44-eb1d585efee6"
      },
      "source": [
        "df_wine = df_wine.dropna()\r\n",
        "\r\n",
        "df_wine.info()"
      ],
      "execution_count": null,
      "outputs": [
        {
          "output_type": "stream",
          "text": [
            "<class 'pandas.core.frame.DataFrame'>\n",
            "Int64Index: 6463 entries, 0 to 6496\n",
            "Data columns (total 13 columns):\n",
            " #   Column                Non-Null Count  Dtype  \n",
            "---  ------                --------------  -----  \n",
            " 0   type                  6463 non-null   int8   \n",
            " 1   fixed acidity         6463 non-null   float64\n",
            " 2   volatile acidity      6463 non-null   float64\n",
            " 3   citric acid           6463 non-null   float64\n",
            " 4   residual sugar        6463 non-null   float64\n",
            " 5   chlorides             6463 non-null   float64\n",
            " 6   free sulfur dioxide   6463 non-null   float64\n",
            " 7   total sulfur dioxide  6463 non-null   float64\n",
            " 8   density               6463 non-null   float64\n",
            " 9   pH                    6463 non-null   float64\n",
            " 10  sulphates             6463 non-null   float64\n",
            " 11  alcohol               6463 non-null   float64\n",
            " 12  quality               6463 non-null   int64  \n",
            "dtypes: float64(11), int64(1), int8(1)\n",
            "memory usage: 662.7 KB\n"
          ],
          "name": "stdout"
        }
      ]
    },
    {
      "cell_type": "code",
      "metadata": {
        "colab": {
          "base_uri": "https://localhost:8080/"
        },
        "id": "z4f6B0IFzM2g",
        "outputId": "eeb0a270-192c-4b8e-ca32-1709a4954372"
      },
      "source": [
        "df_wine.isna().any()"
      ],
      "execution_count": null,
      "outputs": [
        {
          "output_type": "execute_result",
          "data": {
            "text/plain": [
              "type                    False\n",
              "fixed acidity           False\n",
              "volatile acidity        False\n",
              "citric acid             False\n",
              "residual sugar          False\n",
              "chlorides               False\n",
              "free sulfur dioxide     False\n",
              "total sulfur dioxide    False\n",
              "density                 False\n",
              "pH                      False\n",
              "sulphates               False\n",
              "alcohol                 False\n",
              "quality                 False\n",
              "dtype: bool"
            ]
          },
          "metadata": {
            "tags": []
          },
          "execution_count": 7
        }
      ]
    },
    {
      "cell_type": "markdown",
      "metadata": {
        "id": "joB4uYGVllgf"
      },
      "source": [
        "#### Multivariate Class를 Binary 로 변환"
      ]
    },
    {
      "cell_type": "code",
      "metadata": {
        "id": "85prMxbWlkjQ"
      },
      "source": [
        "grade = [] \r\n",
        "for i in df_wine['quality']: \r\n",
        "    if i > 5:\r\n",
        "        i = 1\r\n",
        "        grade.append(i)\r\n",
        "    else:\r\n",
        "        i = 0\r\n",
        "        grade.append(i)\r\n",
        "df_wine['grade'] = grade "
      ],
      "execution_count": null,
      "outputs": []
    },
    {
      "cell_type": "code",
      "metadata": {
        "colab": {
          "base_uri": "https://localhost:8080/"
        },
        "id": "43QKmINFre8t",
        "outputId": "ce3ad047-9d33-403c-bc09-84699b3fafbd"
      },
      "source": [
        "df_wine.drop('quality', axis = 1, inplace = True) \r\n",
        "df_wine.head()"
      ],
      "execution_count": null,
      "outputs": [
        {
          "output_type": "execute_result",
          "data": {
            "text/html": [
              "<div>\n",
              "<style scoped>\n",
              "    .dataframe tbody tr th:only-of-type {\n",
              "        vertical-align: middle;\n",
              "    }\n",
              "\n",
              "    .dataframe tbody tr th {\n",
              "        vertical-align: top;\n",
              "    }\n",
              "\n",
              "    .dataframe thead th {\n",
              "        text-align: right;\n",
              "    }\n",
              "</style>\n",
              "<table border=\"1\" class=\"dataframe\">\n",
              "  <thead>\n",
              "    <tr style=\"text-align: right;\">\n",
              "      <th></th>\n",
              "      <th>type</th>\n",
              "      <th>fixed acidity</th>\n",
              "      <th>volatile acidity</th>\n",
              "      <th>citric acid</th>\n",
              "      <th>residual sugar</th>\n",
              "      <th>chlorides</th>\n",
              "      <th>free sulfur dioxide</th>\n",
              "      <th>total sulfur dioxide</th>\n",
              "      <th>density</th>\n",
              "      <th>pH</th>\n",
              "      <th>sulphates</th>\n",
              "      <th>alcohol</th>\n",
              "      <th>grade</th>\n",
              "    </tr>\n",
              "  </thead>\n",
              "  <tbody>\n",
              "    <tr>\n",
              "      <th>0</th>\n",
              "      <td>1</td>\n",
              "      <td>7.0</td>\n",
              "      <td>0.27</td>\n",
              "      <td>0.36</td>\n",
              "      <td>20.7</td>\n",
              "      <td>0.045</td>\n",
              "      <td>45.0</td>\n",
              "      <td>170.0</td>\n",
              "      <td>1.0010</td>\n",
              "      <td>3.00</td>\n",
              "      <td>0.45</td>\n",
              "      <td>8.8</td>\n",
              "      <td>1</td>\n",
              "    </tr>\n",
              "    <tr>\n",
              "      <th>1</th>\n",
              "      <td>1</td>\n",
              "      <td>6.3</td>\n",
              "      <td>0.30</td>\n",
              "      <td>0.34</td>\n",
              "      <td>1.6</td>\n",
              "      <td>0.049</td>\n",
              "      <td>14.0</td>\n",
              "      <td>132.0</td>\n",
              "      <td>0.9940</td>\n",
              "      <td>3.30</td>\n",
              "      <td>0.49</td>\n",
              "      <td>9.5</td>\n",
              "      <td>1</td>\n",
              "    </tr>\n",
              "    <tr>\n",
              "      <th>2</th>\n",
              "      <td>1</td>\n",
              "      <td>8.1</td>\n",
              "      <td>0.28</td>\n",
              "      <td>0.40</td>\n",
              "      <td>6.9</td>\n",
              "      <td>0.050</td>\n",
              "      <td>30.0</td>\n",
              "      <td>97.0</td>\n",
              "      <td>0.9951</td>\n",
              "      <td>3.26</td>\n",
              "      <td>0.44</td>\n",
              "      <td>10.1</td>\n",
              "      <td>1</td>\n",
              "    </tr>\n",
              "    <tr>\n",
              "      <th>3</th>\n",
              "      <td>1</td>\n",
              "      <td>7.2</td>\n",
              "      <td>0.23</td>\n",
              "      <td>0.32</td>\n",
              "      <td>8.5</td>\n",
              "      <td>0.058</td>\n",
              "      <td>47.0</td>\n",
              "      <td>186.0</td>\n",
              "      <td>0.9956</td>\n",
              "      <td>3.19</td>\n",
              "      <td>0.40</td>\n",
              "      <td>9.9</td>\n",
              "      <td>1</td>\n",
              "    </tr>\n",
              "    <tr>\n",
              "      <th>4</th>\n",
              "      <td>1</td>\n",
              "      <td>7.2</td>\n",
              "      <td>0.23</td>\n",
              "      <td>0.32</td>\n",
              "      <td>8.5</td>\n",
              "      <td>0.058</td>\n",
              "      <td>47.0</td>\n",
              "      <td>186.0</td>\n",
              "      <td>0.9956</td>\n",
              "      <td>3.19</td>\n",
              "      <td>0.40</td>\n",
              "      <td>9.9</td>\n",
              "      <td>1</td>\n",
              "    </tr>\n",
              "  </tbody>\n",
              "</table>\n",
              "</div>"
            ],
            "text/plain": [
              "   type  fixed acidity  volatile acidity  ...  sulphates  alcohol  grade\n",
              "0     1            7.0              0.27  ...       0.45      8.8      1\n",
              "1     1            6.3              0.30  ...       0.49      9.5      1\n",
              "2     1            8.1              0.28  ...       0.44     10.1      1\n",
              "3     1            7.2              0.23  ...       0.40      9.9      1\n",
              "4     1            7.2              0.23  ...       0.40      9.9      1\n",
              "\n",
              "[5 rows x 13 columns]"
            ]
          },
          "metadata": {
            "tags": []
          },
          "execution_count": 9
        }
      ]
    },
    {
      "cell_type": "markdown",
      "metadata": {
        "id": "-ivgyftpXKM2"
      },
      "source": [
        "#### Train -Test 나누기\r\n"
      ]
    },
    {
      "cell_type": "code",
      "metadata": {
        "id": "PQHBXSlxZBTc"
      },
      "source": [
        "# 분류기에 넣을 feature와 label을 구분합니다.\r\n",
        "X = df_wine.drop(columns=['grade'])\r\n",
        "y = df_wine['grade']"
      ],
      "execution_count": null,
      "outputs": []
    },
    {
      "cell_type": "code",
      "metadata": {
        "id": "Xv08uwUUXQSt"
      },
      "source": [
        "from sklearn.model_selection import train_test_split\r\n",
        "\r\n",
        "X_train, X_test, y_train, y_test = train_test_split(X, y, test_size=0.3, random_state=42) "
      ],
      "execution_count": null,
      "outputs": []
    },
    {
      "cell_type": "markdown",
      "metadata": {
        "id": "isRf3iXtnnMA"
      },
      "source": [
        "#### 정규화\r\n",
        "\r\n",
        "MinMaxNormalization"
      ]
    },
    {
      "cell_type": "code",
      "metadata": {
        "colab": {
          "base_uri": "https://localhost:8080/"
        },
        "id": "f3LmGleIsE2e",
        "outputId": "c3be3adc-6129-42df-ba79-434b59762e4c"
      },
      "source": [
        "df_wine.describe()"
      ],
      "execution_count": null,
      "outputs": [
        {
          "output_type": "execute_result",
          "data": {
            "text/html": [
              "<div>\n",
              "<style scoped>\n",
              "    .dataframe tbody tr th:only-of-type {\n",
              "        vertical-align: middle;\n",
              "    }\n",
              "\n",
              "    .dataframe tbody tr th {\n",
              "        vertical-align: top;\n",
              "    }\n",
              "\n",
              "    .dataframe thead th {\n",
              "        text-align: right;\n",
              "    }\n",
              "</style>\n",
              "<table border=\"1\" class=\"dataframe\">\n",
              "  <thead>\n",
              "    <tr style=\"text-align: right;\">\n",
              "      <th></th>\n",
              "      <th>type</th>\n",
              "      <th>fixed acidity</th>\n",
              "      <th>volatile acidity</th>\n",
              "      <th>citric acid</th>\n",
              "      <th>residual sugar</th>\n",
              "      <th>chlorides</th>\n",
              "      <th>free sulfur dioxide</th>\n",
              "      <th>total sulfur dioxide</th>\n",
              "      <th>density</th>\n",
              "      <th>pH</th>\n",
              "      <th>sulphates</th>\n",
              "      <th>alcohol</th>\n",
              "      <th>grade</th>\n",
              "    </tr>\n",
              "  </thead>\n",
              "  <tbody>\n",
              "    <tr>\n",
              "      <th>count</th>\n",
              "      <td>6463.000000</td>\n",
              "      <td>6463.000000</td>\n",
              "      <td>6463.000000</td>\n",
              "      <td>6463.000000</td>\n",
              "      <td>6463.000000</td>\n",
              "      <td>6463.000000</td>\n",
              "      <td>6463.000000</td>\n",
              "      <td>6463.000000</td>\n",
              "      <td>6463.000000</td>\n",
              "      <td>6463.000000</td>\n",
              "      <td>6463.000000</td>\n",
              "      <td>6463.000000</td>\n",
              "      <td>6463.000000</td>\n",
              "    </tr>\n",
              "    <tr>\n",
              "      <th>mean</th>\n",
              "      <td>0.753520</td>\n",
              "      <td>7.217755</td>\n",
              "      <td>0.339589</td>\n",
              "      <td>0.318758</td>\n",
              "      <td>5.443958</td>\n",
              "      <td>0.056056</td>\n",
              "      <td>30.516865</td>\n",
              "      <td>115.694492</td>\n",
              "      <td>0.994698</td>\n",
              "      <td>3.218332</td>\n",
              "      <td>0.531150</td>\n",
              "      <td>10.492825</td>\n",
              "      <td>0.632988</td>\n",
              "    </tr>\n",
              "    <tr>\n",
              "      <th>std</th>\n",
              "      <td>0.430995</td>\n",
              "      <td>1.297913</td>\n",
              "      <td>0.164639</td>\n",
              "      <td>0.145252</td>\n",
              "      <td>4.756852</td>\n",
              "      <td>0.035076</td>\n",
              "      <td>17.758815</td>\n",
              "      <td>56.526736</td>\n",
              "      <td>0.003001</td>\n",
              "      <td>0.160650</td>\n",
              "      <td>0.148913</td>\n",
              "      <td>1.193128</td>\n",
              "      <td>0.482027</td>\n",
              "    </tr>\n",
              "    <tr>\n",
              "      <th>min</th>\n",
              "      <td>0.000000</td>\n",
              "      <td>3.800000</td>\n",
              "      <td>0.080000</td>\n",
              "      <td>0.000000</td>\n",
              "      <td>0.600000</td>\n",
              "      <td>0.009000</td>\n",
              "      <td>1.000000</td>\n",
              "      <td>6.000000</td>\n",
              "      <td>0.987110</td>\n",
              "      <td>2.720000</td>\n",
              "      <td>0.220000</td>\n",
              "      <td>8.000000</td>\n",
              "      <td>0.000000</td>\n",
              "    </tr>\n",
              "    <tr>\n",
              "      <th>25%</th>\n",
              "      <td>1.000000</td>\n",
              "      <td>6.400000</td>\n",
              "      <td>0.230000</td>\n",
              "      <td>0.250000</td>\n",
              "      <td>1.800000</td>\n",
              "      <td>0.038000</td>\n",
              "      <td>17.000000</td>\n",
              "      <td>77.000000</td>\n",
              "      <td>0.992330</td>\n",
              "      <td>3.110000</td>\n",
              "      <td>0.430000</td>\n",
              "      <td>9.500000</td>\n",
              "      <td>0.000000</td>\n",
              "    </tr>\n",
              "    <tr>\n",
              "      <th>50%</th>\n",
              "      <td>1.000000</td>\n",
              "      <td>7.000000</td>\n",
              "      <td>0.290000</td>\n",
              "      <td>0.310000</td>\n",
              "      <td>3.000000</td>\n",
              "      <td>0.047000</td>\n",
              "      <td>29.000000</td>\n",
              "      <td>118.000000</td>\n",
              "      <td>0.994890</td>\n",
              "      <td>3.210000</td>\n",
              "      <td>0.510000</td>\n",
              "      <td>10.300000</td>\n",
              "      <td>1.000000</td>\n",
              "    </tr>\n",
              "    <tr>\n",
              "      <th>75%</th>\n",
              "      <td>1.000000</td>\n",
              "      <td>7.700000</td>\n",
              "      <td>0.400000</td>\n",
              "      <td>0.390000</td>\n",
              "      <td>8.100000</td>\n",
              "      <td>0.065000</td>\n",
              "      <td>41.000000</td>\n",
              "      <td>156.000000</td>\n",
              "      <td>0.997000</td>\n",
              "      <td>3.320000</td>\n",
              "      <td>0.600000</td>\n",
              "      <td>11.300000</td>\n",
              "      <td>1.000000</td>\n",
              "    </tr>\n",
              "    <tr>\n",
              "      <th>max</th>\n",
              "      <td>1.000000</td>\n",
              "      <td>15.900000</td>\n",
              "      <td>1.580000</td>\n",
              "      <td>1.660000</td>\n",
              "      <td>65.800000</td>\n",
              "      <td>0.611000</td>\n",
              "      <td>289.000000</td>\n",
              "      <td>440.000000</td>\n",
              "      <td>1.038980</td>\n",
              "      <td>4.010000</td>\n",
              "      <td>2.000000</td>\n",
              "      <td>14.900000</td>\n",
              "      <td>1.000000</td>\n",
              "    </tr>\n",
              "  </tbody>\n",
              "</table>\n",
              "</div>"
            ],
            "text/plain": [
              "              type  fixed acidity  ...      alcohol        grade\n",
              "count  6463.000000    6463.000000  ...  6463.000000  6463.000000\n",
              "mean      0.753520       7.217755  ...    10.492825     0.632988\n",
              "std       0.430995       1.297913  ...     1.193128     0.482027\n",
              "min       0.000000       3.800000  ...     8.000000     0.000000\n",
              "25%       1.000000       6.400000  ...     9.500000     0.000000\n",
              "50%       1.000000       7.000000  ...    10.300000     1.000000\n",
              "75%       1.000000       7.700000  ...    11.300000     1.000000\n",
              "max       1.000000      15.900000  ...    14.900000     1.000000\n",
              "\n",
              "[8 rows x 13 columns]"
            ]
          },
          "metadata": {
            "tags": []
          },
          "execution_count": 12
        }
      ]
    },
    {
      "cell_type": "code",
      "metadata": {
        "id": "vYl3_gHQnsgE"
      },
      "source": [
        "from sklearn.preprocessing import MinMaxScaler\r\n",
        "\r\n",
        "scaler = MinMaxScaler()\r\n",
        "\r\n",
        "X_train_norm = scaler.fit_transform(X_train)\r\n",
        "X_test_norm = scaler.transform(X_test)"
      ],
      "execution_count": null,
      "outputs": []
    },
    {
      "cell_type": "markdown",
      "metadata": {
        "id": "UJkYVm1Faid5"
      },
      "source": [
        "### Base Model 설계\r\n",
        "\r\n",
        "comparing with normalization results"
      ]
    },
    {
      "cell_type": "markdown",
      "metadata": {
        "id": "0PgEXPXFcUwA"
      },
      "source": [
        "#### 1) Naive Bayes"
      ]
    },
    {
      "cell_type": "markdown",
      "metadata": {
        "id": "OD6aDx97r9EW"
      },
      "source": [
        "정규화 적용 전"
      ]
    },
    {
      "cell_type": "code",
      "metadata": {
        "colab": {
          "base_uri": "https://localhost:8080/"
        },
        "id": "7y4SeQxfap8i",
        "outputId": "dac59e69-e66b-454c-a853-95ed4e7976ce"
      },
      "source": [
        "from sklearn.naive_bayes import CategoricalNB\r\n",
        "\r\n",
        "naive_bayes = CategoricalNB()\r\n",
        "naive_bayes.fit(X_train, y_train)"
      ],
      "execution_count": null,
      "outputs": [
        {
          "output_type": "execute_result",
          "data": {
            "text/plain": [
              "CategoricalNB(alpha=1.0, class_prior=None, fit_prior=True)"
            ]
          },
          "metadata": {
            "tags": []
          },
          "execution_count": 14
        }
      ]
    },
    {
      "cell_type": "code",
      "metadata": {
        "colab": {
          "base_uri": "https://localhost:8080/"
        },
        "id": "QwCE7u12dtXH",
        "outputId": "80c51860-fddf-44b0-c2ba-9c676ea06cc0"
      },
      "source": [
        "naive_bayes.score(X_test, y_test)"
      ],
      "execution_count": null,
      "outputs": [
        {
          "output_type": "execute_result",
          "data": {
            "text/plain": [
              "0.6884992264053635"
            ]
          },
          "metadata": {
            "tags": []
          },
          "execution_count": 15
        }
      ]
    },
    {
      "cell_type": "markdown",
      "metadata": {
        "id": "CMLW0oREr-lm"
      },
      "source": [
        "정규화 적용 후"
      ]
    },
    {
      "cell_type": "code",
      "metadata": {
        "colab": {
          "base_uri": "https://localhost:8080/"
        },
        "id": "92xytWxNrtFe",
        "outputId": "161fec68-b653-4267-d106-1b60cc26113b"
      },
      "source": [
        "from sklearn.naive_bayes import CategoricalNB\r\n",
        "\r\n",
        "naive_bayes_norm = CategoricalNB()\r\n",
        "naive_bayes_norm.fit(X_train_norm, y_train)"
      ],
      "execution_count": null,
      "outputs": [
        {
          "output_type": "execute_result",
          "data": {
            "text/plain": [
              "CategoricalNB(alpha=1.0, class_prior=None, fit_prior=True)"
            ]
          },
          "metadata": {
            "tags": []
          },
          "execution_count": 16
        }
      ]
    },
    {
      "cell_type": "code",
      "metadata": {
        "colab": {
          "base_uri": "https://localhost:8080/"
        },
        "id": "VN2CODH-rzkx",
        "outputId": "788f16a6-fa63-426a-d130-404cd451a0f6"
      },
      "source": [
        "naive_bayes_norm.score(X_test_norm, y_test)"
      ],
      "execution_count": null,
      "outputs": [
        {
          "output_type": "execute_result",
          "data": {
            "text/plain": [
              "0.630737493553378"
            ]
          },
          "metadata": {
            "tags": []
          },
          "execution_count": 17
        }
      ]
    },
    {
      "cell_type": "markdown",
      "metadata": {
        "id": "i7kXUQ_3s0BT"
      },
      "source": [
        "#### 2) Decision Tree"
      ]
    },
    {
      "cell_type": "markdown",
      "metadata": {
        "id": "z7sOUBrLsJTk"
      },
      "source": [
        "정규화 적용 전"
      ]
    },
    {
      "cell_type": "code",
      "metadata": {
        "colab": {
          "base_uri": "https://localhost:8080/"
        },
        "id": "bHAsQdixs5Op",
        "outputId": "0fb34ea1-6812-4d8a-83ad-6f8460529ff1"
      },
      "source": [
        "from sklearn.tree import DecisionTreeClassifier\r\n",
        "\r\n",
        "decision_tree = DecisionTreeClassifier(random_state=42)\r\n",
        "decision_tree.fit(X_train, y_train)"
      ],
      "execution_count": null,
      "outputs": [
        {
          "output_type": "execute_result",
          "data": {
            "text/plain": [
              "DecisionTreeClassifier(ccp_alpha=0.0, class_weight=None, criterion='gini',\n",
              "                       max_depth=None, max_features=None, max_leaf_nodes=None,\n",
              "                       min_impurity_decrease=0.0, min_impurity_split=None,\n",
              "                       min_samples_leaf=1, min_samples_split=2,\n",
              "                       min_weight_fraction_leaf=0.0, presort='deprecated',\n",
              "                       random_state=42, splitter='best')"
            ]
          },
          "metadata": {
            "tags": []
          },
          "execution_count": 18
        }
      ]
    },
    {
      "cell_type": "code",
      "metadata": {
        "colab": {
          "base_uri": "https://localhost:8080/"
        },
        "id": "fOUWnSLXtFo-",
        "outputId": "87e07fe5-3be2-4d80-8c11-7863ade4e11c"
      },
      "source": [
        "decision_tree.score(X_test, y_test)"
      ],
      "execution_count": null,
      "outputs": [
        {
          "output_type": "execute_result",
          "data": {
            "text/plain": [
              "0.7591542031975245"
            ]
          },
          "metadata": {
            "tags": []
          },
          "execution_count": 19
        }
      ]
    },
    {
      "cell_type": "markdown",
      "metadata": {
        "id": "zlGD_WdvsLJ7"
      },
      "source": [
        "정규화 적용 후"
      ]
    },
    {
      "cell_type": "code",
      "metadata": {
        "colab": {
          "base_uri": "https://localhost:8080/"
        },
        "id": "iVw0t3JrtK4h",
        "outputId": "8f58d1bc-ebe7-4369-87ee-66f8ab66224f"
      },
      "source": [
        "from sklearn.tree import DecisionTreeClassifier\r\n",
        "\r\n",
        "decision_tree_norm = DecisionTreeClassifier(random_state=42)\r\n",
        "decision_tree_norm.fit(X_train_norm, y_train)"
      ],
      "execution_count": null,
      "outputs": [
        {
          "output_type": "execute_result",
          "data": {
            "text/plain": [
              "DecisionTreeClassifier(ccp_alpha=0.0, class_weight=None, criterion='gini',\n",
              "                       max_depth=None, max_features=None, max_leaf_nodes=None,\n",
              "                       min_impurity_decrease=0.0, min_impurity_split=None,\n",
              "                       min_samples_leaf=1, min_samples_split=2,\n",
              "                       min_weight_fraction_leaf=0.0, presort='deprecated',\n",
              "                       random_state=42, splitter='best')"
            ]
          },
          "metadata": {
            "tags": []
          },
          "execution_count": 20
        }
      ]
    },
    {
      "cell_type": "code",
      "metadata": {
        "colab": {
          "base_uri": "https://localhost:8080/"
        },
        "id": "N8_fX79htTpD",
        "outputId": "fdb0edf7-f017-404e-9ea5-fe7c343b05cc"
      },
      "source": [
        "decision_tree_norm.score(X_test_norm, y_test)"
      ],
      "execution_count": null,
      "outputs": [
        {
          "output_type": "execute_result",
          "data": {
            "text/plain": [
              "0.7581227436823105"
            ]
          },
          "metadata": {
            "tags": []
          },
          "execution_count": 21
        }
      ]
    },
    {
      "cell_type": "markdown",
      "metadata": {
        "id": "7M5GrryMxQsb"
      },
      "source": [
        "#### 3) Logistic Regression"
      ]
    },
    {
      "cell_type": "markdown",
      "metadata": {
        "id": "JG1am4kTsldx"
      },
      "source": [
        "정규화 적용 전"
      ]
    },
    {
      "cell_type": "code",
      "metadata": {
        "colab": {
          "base_uri": "https://localhost:8080/"
        },
        "id": "zKF-ar1LxUlI",
        "outputId": "6ba6de5e-2f7d-454a-ad80-a65f0c52de5c"
      },
      "source": [
        "from sklearn.linear_model import LogisticRegression\r\n",
        "\r\n",
        "logistic_reg = LogisticRegression(max_iter=2000, random_state=42)\r\n",
        "logistic_reg.fit(X_train, y_train)"
      ],
      "execution_count": null,
      "outputs": [
        {
          "output_type": "execute_result",
          "data": {
            "text/plain": [
              "LogisticRegression(C=1.0, class_weight=None, dual=False, fit_intercept=True,\n",
              "                   intercept_scaling=1, l1_ratio=None, max_iter=2000,\n",
              "                   multi_class='auto', n_jobs=None, penalty='l2',\n",
              "                   random_state=42, solver='lbfgs', tol=0.0001, verbose=0,\n",
              "                   warm_start=False)"
            ]
          },
          "metadata": {
            "tags": []
          },
          "execution_count": 22
        }
      ]
    },
    {
      "cell_type": "code",
      "metadata": {
        "colab": {
          "base_uri": "https://localhost:8080/"
        },
        "id": "qKsQwL3mxd87",
        "outputId": "aa7646ac-76d2-430d-831e-f82f00d40a87"
      },
      "source": [
        "logistic_reg.score(X_test, y_test)"
      ],
      "execution_count": null,
      "outputs": [
        {
          "output_type": "execute_result",
          "data": {
            "text/plain": [
              "0.7447137699845281"
            ]
          },
          "metadata": {
            "tags": []
          },
          "execution_count": 23
        }
      ]
    },
    {
      "cell_type": "markdown",
      "metadata": {
        "id": "k_wj1LVwsnGK"
      },
      "source": [
        "정규화 적용 후"
      ]
    },
    {
      "cell_type": "code",
      "metadata": {
        "colab": {
          "base_uri": "https://localhost:8080/"
        },
        "id": "4RgOlQN-xpuX",
        "outputId": "20649159-03a6-45ab-b8b2-72909c173383"
      },
      "source": [
        "from sklearn.linear_model import LogisticRegression\r\n",
        "\r\n",
        "logistic_reg_norm = LogisticRegression(max_iter=2000, random_state=42)\r\n",
        "logistic_reg_norm.fit(X_train_norm, y_train)"
      ],
      "execution_count": null,
      "outputs": [
        {
          "output_type": "execute_result",
          "data": {
            "text/plain": [
              "LogisticRegression(C=1.0, class_weight=None, dual=False, fit_intercept=True,\n",
              "                   intercept_scaling=1, l1_ratio=None, max_iter=2000,\n",
              "                   multi_class='auto', n_jobs=None, penalty='l2',\n",
              "                   random_state=42, solver='lbfgs', tol=0.0001, verbose=0,\n",
              "                   warm_start=False)"
            ]
          },
          "metadata": {
            "tags": []
          },
          "execution_count": 24
        }
      ]
    },
    {
      "cell_type": "code",
      "metadata": {
        "colab": {
          "base_uri": "https://localhost:8080/"
        },
        "id": "6KXWy_97xr1v",
        "outputId": "de8f7757-4941-499c-dd7a-1081472fa582"
      },
      "source": [
        "logistic_reg_norm.score(X_test_norm, y_test)"
      ],
      "execution_count": null,
      "outputs": [
        {
          "output_type": "execute_result",
          "data": {
            "text/plain": [
              "0.7503867973182052"
            ]
          },
          "metadata": {
            "tags": []
          },
          "execution_count": 25
        }
      ]
    },
    {
      "cell_type": "markdown",
      "metadata": {
        "id": "JWZ2JBIxyDjK"
      },
      "source": [
        "#### 4) Perceptron"
      ]
    },
    {
      "cell_type": "markdown",
      "metadata": {
        "id": "g4K3z88OtASk"
      },
      "source": [
        "정규화 적용 전"
      ]
    },
    {
      "cell_type": "code",
      "metadata": {
        "colab": {
          "base_uri": "https://localhost:8080/"
        },
        "id": "DPKJWFxdyDBq",
        "outputId": "7f87ee02-ac00-427c-8269-f78d40696530"
      },
      "source": [
        "from sklearn.linear_model import Perceptron\r\n",
        "\r\n",
        "perceptron = Perceptron(random_state=42)\r\n",
        "perceptron.fit(X_train, y_train)"
      ],
      "execution_count": null,
      "outputs": [
        {
          "output_type": "execute_result",
          "data": {
            "text/plain": [
              "Perceptron(alpha=0.0001, class_weight=None, early_stopping=False, eta0=1.0,\n",
              "           fit_intercept=True, max_iter=1000, n_iter_no_change=5, n_jobs=None,\n",
              "           penalty=None, random_state=42, shuffle=True, tol=0.001,\n",
              "           validation_fraction=0.1, verbose=0, warm_start=False)"
            ]
          },
          "metadata": {
            "tags": []
          },
          "execution_count": 26
        }
      ]
    },
    {
      "cell_type": "code",
      "metadata": {
        "colab": {
          "base_uri": "https://localhost:8080/"
        },
        "id": "9oobP3K6yMfE",
        "outputId": "e83045a8-513a-4475-beb5-0eb4be081f2e"
      },
      "source": [
        "perceptron.score(X_test, y_test)"
      ],
      "execution_count": null,
      "outputs": [
        {
          "output_type": "execute_result",
          "data": {
            "text/plain": [
              "0.6245487364620939"
            ]
          },
          "metadata": {
            "tags": []
          },
          "execution_count": 27
        }
      ]
    },
    {
      "cell_type": "markdown",
      "metadata": {
        "id": "n6dLUxhNtCEt"
      },
      "source": [
        "정규화 적용 후"
      ]
    },
    {
      "cell_type": "code",
      "metadata": {
        "colab": {
          "base_uri": "https://localhost:8080/"
        },
        "id": "ScqjIWu-yN3t",
        "outputId": "c9fae32a-2e35-449d-b7cb-1849c077593e"
      },
      "source": [
        "from sklearn.linear_model import Perceptron\r\n",
        "\r\n",
        "perceptron_norm = Perceptron(random_state=42)\r\n",
        "perceptron_norm.fit(X_train_norm, y_train)"
      ],
      "execution_count": null,
      "outputs": [
        {
          "output_type": "execute_result",
          "data": {
            "text/plain": [
              "Perceptron(alpha=0.0001, class_weight=None, early_stopping=False, eta0=1.0,\n",
              "           fit_intercept=True, max_iter=1000, n_iter_no_change=5, n_jobs=None,\n",
              "           penalty=None, random_state=42, shuffle=True, tol=0.001,\n",
              "           validation_fraction=0.1, verbose=0, warm_start=False)"
            ]
          },
          "metadata": {
            "tags": []
          },
          "execution_count": 28
        }
      ]
    },
    {
      "cell_type": "code",
      "metadata": {
        "colab": {
          "base_uri": "https://localhost:8080/"
        },
        "id": "zFiLx7J2yR2p",
        "outputId": "cb183f73-b279-44db-b6e3-fdd4ef632224"
      },
      "source": [
        "perceptron_norm.score(X_test_norm, y_test)"
      ],
      "execution_count": null,
      "outputs": [
        {
          "output_type": "execute_result",
          "data": {
            "text/plain": [
              "0.6988138215575038"
            ]
          },
          "metadata": {
            "tags": []
          },
          "execution_count": 29
        }
      ]
    },
    {
      "cell_type": "markdown",
      "metadata": {
        "id": "D9nzDQswycdL"
      },
      "source": [
        "#### 5) MLP"
      ]
    },
    {
      "cell_type": "markdown",
      "metadata": {
        "id": "min-1q4UtPc5"
      },
      "source": [
        "정규화 적용 전"
      ]
    },
    {
      "cell_type": "code",
      "metadata": {
        "colab": {
          "base_uri": "https://localhost:8080/"
        },
        "id": "oohlPFcyyfk2",
        "outputId": "1ab3f99e-1c40-48b5-cfae-00b2425a1de1"
      },
      "source": [
        "from sklearn.neural_network import MLPClassifier\r\n",
        "\r\n",
        "mlp = MLPClassifier(random_state=42)\r\n",
        "mlp.fit(X_train, y_train)"
      ],
      "execution_count": null,
      "outputs": [
        {
          "output_type": "execute_result",
          "data": {
            "text/plain": [
              "MLPClassifier(activation='relu', alpha=0.0001, batch_size='auto', beta_1=0.9,\n",
              "              beta_2=0.999, early_stopping=False, epsilon=1e-08,\n",
              "              hidden_layer_sizes=(100,), learning_rate='constant',\n",
              "              learning_rate_init=0.001, max_fun=15000, max_iter=200,\n",
              "              momentum=0.9, n_iter_no_change=10, nesterovs_momentum=True,\n",
              "              power_t=0.5, random_state=42, shuffle=True, solver='adam',\n",
              "              tol=0.0001, validation_fraction=0.1, verbose=False,\n",
              "              warm_start=False)"
            ]
          },
          "metadata": {
            "tags": []
          },
          "execution_count": 30
        }
      ]
    },
    {
      "cell_type": "code",
      "metadata": {
        "colab": {
          "base_uri": "https://localhost:8080/"
        },
        "id": "d5SZLQK1ymaL",
        "outputId": "2b30d2f7-3e91-46f3-dfda-389a30af4499"
      },
      "source": [
        "mlp.score(X_test, y_test)"
      ],
      "execution_count": null,
      "outputs": [
        {
          "output_type": "execute_result",
          "data": {
            "text/plain": [
              "0.7086126869520372"
            ]
          },
          "metadata": {
            "tags": []
          },
          "execution_count": 31
        }
      ]
    },
    {
      "cell_type": "markdown",
      "metadata": {
        "id": "vBlTJS0ytRIC"
      },
      "source": [
        "정규화 적용 후"
      ]
    },
    {
      "cell_type": "code",
      "metadata": {
        "colab": {
          "base_uri": "https://localhost:8080/"
        },
        "id": "ofs62vmrytR1",
        "outputId": "14759db6-b199-4738-cb03-41319849211d"
      },
      "source": [
        "from sklearn.neural_network import MLPClassifier\r\n",
        "\r\n",
        "mlp_norm = MLPClassifier(random_state=42)\r\n",
        "mlp_norm.fit(X_train_norm, y_train)"
      ],
      "execution_count": null,
      "outputs": [
        {
          "output_type": "stream",
          "text": [
            "/usr/local/lib/python3.6/dist-packages/sklearn/neural_network/_multilayer_perceptron.py:571: ConvergenceWarning: Stochastic Optimizer: Maximum iterations (200) reached and the optimization hasn't converged yet.\n",
            "  % self.max_iter, ConvergenceWarning)\n"
          ],
          "name": "stderr"
        },
        {
          "output_type": "execute_result",
          "data": {
            "text/plain": [
              "MLPClassifier(activation='relu', alpha=0.0001, batch_size='auto', beta_1=0.9,\n",
              "              beta_2=0.999, early_stopping=False, epsilon=1e-08,\n",
              "              hidden_layer_sizes=(100,), learning_rate='constant',\n",
              "              learning_rate_init=0.001, max_fun=15000, max_iter=200,\n",
              "              momentum=0.9, n_iter_no_change=10, nesterovs_momentum=True,\n",
              "              power_t=0.5, random_state=42, shuffle=True, solver='adam',\n",
              "              tol=0.0001, validation_fraction=0.1, verbose=False,\n",
              "              warm_start=False)"
            ]
          },
          "metadata": {
            "tags": []
          },
          "execution_count": 32
        }
      ]
    },
    {
      "cell_type": "code",
      "metadata": {
        "colab": {
          "base_uri": "https://localhost:8080/"
        },
        "id": "GrkF3kWQyxn0",
        "outputId": "f8b34cc0-eab1-41fe-df6a-c86a69eccf26"
      },
      "source": [
        "mlp_norm.score(X_test_norm, y_test)"
      ],
      "execution_count": null,
      "outputs": [
        {
          "output_type": "execute_result",
          "data": {
            "text/plain": [
              "0.7643115007735947"
            ]
          },
          "metadata": {
            "tags": []
          },
          "execution_count": 33
        }
      ]
    },
    {
      "cell_type": "markdown",
      "metadata": {
        "id": "eo7Bx-jky9ur"
      },
      "source": [
        "#### 6) KNN"
      ]
    },
    {
      "cell_type": "markdown",
      "metadata": {
        "id": "SgZ5qBS6tjRD"
      },
      "source": [
        "정규화 적용 전"
      ]
    },
    {
      "cell_type": "code",
      "metadata": {
        "colab": {
          "base_uri": "https://localhost:8080/"
        },
        "id": "mwGypP_pzA2F",
        "outputId": "13adc92c-4750-4861-87b0-1f9efab200f0"
      },
      "source": [
        "from sklearn.neighbors import KNeighborsClassifier\r\n",
        "\r\n",
        "knn = KNeighborsClassifier()\r\n",
        "knn.fit(X_train, y_train)"
      ],
      "execution_count": null,
      "outputs": [
        {
          "output_type": "execute_result",
          "data": {
            "text/plain": [
              "KNeighborsClassifier(algorithm='auto', leaf_size=30, metric='minkowski',\n",
              "                     metric_params=None, n_jobs=None, n_neighbors=5, p=2,\n",
              "                     weights='uniform')"
            ]
          },
          "metadata": {
            "tags": []
          },
          "execution_count": 34
        }
      ]
    },
    {
      "cell_type": "code",
      "metadata": {
        "colab": {
          "base_uri": "https://localhost:8080/"
        },
        "id": "rjE-DX89z5op",
        "outputId": "685e64df-6d49-482c-faa2-6a726a267968"
      },
      "source": [
        "knn.score(X_test, y_test)"
      ],
      "execution_count": null,
      "outputs": [
        {
          "output_type": "execute_result",
          "data": {
            "text/plain": [
              "0.6843733883445074"
            ]
          },
          "metadata": {
            "tags": []
          },
          "execution_count": 35
        }
      ]
    },
    {
      "cell_type": "markdown",
      "metadata": {
        "id": "kQWyzr8JtkxE"
      },
      "source": [
        "정규화 적용 후"
      ]
    },
    {
      "cell_type": "code",
      "metadata": {
        "colab": {
          "base_uri": "https://localhost:8080/"
        },
        "id": "gOEwd3_I0Dbm",
        "outputId": "22f10039-a09d-4185-a6e9-032f240bd79c"
      },
      "source": [
        "from sklearn.neighbors import KNeighborsClassifier\r\n",
        "\r\n",
        "knn_norm = KNeighborsClassifier()\r\n",
        "knn_norm.fit(X_train_norm, y_train)"
      ],
      "execution_count": null,
      "outputs": [
        {
          "output_type": "execute_result",
          "data": {
            "text/plain": [
              "KNeighborsClassifier(algorithm='auto', leaf_size=30, metric='minkowski',\n",
              "                     metric_params=None, n_jobs=None, n_neighbors=5, p=2,\n",
              "                     weights='uniform')"
            ]
          },
          "metadata": {
            "tags": []
          },
          "execution_count": 36
        }
      ]
    },
    {
      "cell_type": "code",
      "metadata": {
        "colab": {
          "base_uri": "https://localhost:8080/"
        },
        "id": "KToEBaA_0MP0",
        "outputId": "c04737e0-346c-4445-c2f1-baffd54bfea8"
      },
      "source": [
        "knn_norm.score(X_test_norm, y_test)"
      ],
      "execution_count": null,
      "outputs": [
        {
          "output_type": "execute_result",
          "data": {
            "text/plain": [
              "0.7581227436823105"
            ]
          },
          "metadata": {
            "tags": []
          },
          "execution_count": 37
        }
      ]
    },
    {
      "cell_type": "markdown",
      "metadata": {
        "id": "O0At_ECz0atp"
      },
      "source": [
        "#### 7) Bagging \r\n",
        "\r\n",
        "Bagging with Decision Tree Classifier"
      ]
    },
    {
      "cell_type": "code",
      "metadata": {
        "colab": {
          "base_uri": "https://localhost:8080/"
        },
        "id": "luS7__7u0g3T",
        "outputId": "452b2c41-8223-4280-a9a6-bb2a82a389df"
      },
      "source": [
        "from sklearn.tree import DecisionTreeClassifier\r\n",
        "from sklearn.ensemble import BaggingClassifier\r\n",
        "\r\n",
        "bagging = BaggingClassifier(DecisionTreeClassifier(),\r\n",
        "                            n_estimators=5,\r\n",
        "                            n_jobs=-1,\r\n",
        "                            random_state=42)\r\n",
        "bagging.fit(X_train, y_train)"
      ],
      "execution_count": null,
      "outputs": [
        {
          "output_type": "execute_result",
          "data": {
            "text/plain": [
              "BaggingClassifier(base_estimator=DecisionTreeClassifier(ccp_alpha=0.0,\n",
              "                                                        class_weight=None,\n",
              "                                                        criterion='gini',\n",
              "                                                        max_depth=None,\n",
              "                                                        max_features=None,\n",
              "                                                        max_leaf_nodes=None,\n",
              "                                                        min_impurity_decrease=0.0,\n",
              "                                                        min_impurity_split=None,\n",
              "                                                        min_samples_leaf=1,\n",
              "                                                        min_samples_split=2,\n",
              "                                                        min_weight_fraction_leaf=0.0,\n",
              "                                                        presort='deprecated',\n",
              "                                                        random_state=None,\n",
              "                                                        splitter='best'),\n",
              "                  bootstrap=True, bootstrap_features=False, max_features=1.0,\n",
              "                  max_samples=1.0, n_estimators=5, n_jobs=-1, oob_score=False,\n",
              "                  random_state=42, verbose=0, warm_start=False)"
            ]
          },
          "metadata": {
            "tags": []
          },
          "execution_count": 38
        }
      ]
    },
    {
      "cell_type": "code",
      "metadata": {
        "colab": {
          "base_uri": "https://localhost:8080/"
        },
        "id": "lzHmrI7e0z30",
        "outputId": "3d1d3ef9-21f1-4fb2-f0d2-cd129bbfc752"
      },
      "source": [
        "bagging.score(X_test, y_test)"
      ],
      "execution_count": null,
      "outputs": [
        {
          "output_type": "execute_result",
          "data": {
            "text/plain": [
              "0.7947395564724085"
            ]
          },
          "metadata": {
            "tags": []
          },
          "execution_count": 39
        }
      ]
    },
    {
      "cell_type": "code",
      "metadata": {
        "colab": {
          "base_uri": "https://localhost:8080/"
        },
        "id": "yrTKCXTa06cB",
        "outputId": "fbd43057-842b-4477-f7b5-c1cfbc145e52"
      },
      "source": [
        "from sklearn.tree import DecisionTreeClassifier\r\n",
        "from sklearn.ensemble import BaggingClassifier\r\n",
        "\r\n",
        "bagging_norm = BaggingClassifier(DecisionTreeClassifier(),\r\n",
        "                            n_estimators=5,\r\n",
        "                            n_jobs=-1,\r\n",
        "                            random_state=42)\r\n",
        "bagging_norm.fit(X_train_norm, y_train)"
      ],
      "execution_count": null,
      "outputs": [
        {
          "output_type": "execute_result",
          "data": {
            "text/plain": [
              "BaggingClassifier(base_estimator=DecisionTreeClassifier(ccp_alpha=0.0,\n",
              "                                                        class_weight=None,\n",
              "                                                        criterion='gini',\n",
              "                                                        max_depth=None,\n",
              "                                                        max_features=None,\n",
              "                                                        max_leaf_nodes=None,\n",
              "                                                        min_impurity_decrease=0.0,\n",
              "                                                        min_impurity_split=None,\n",
              "                                                        min_samples_leaf=1,\n",
              "                                                        min_samples_split=2,\n",
              "                                                        min_weight_fraction_leaf=0.0,\n",
              "                                                        presort='deprecated',\n",
              "                                                        random_state=None,\n",
              "                                                        splitter='best'),\n",
              "                  bootstrap=True, bootstrap_features=False, max_features=1.0,\n",
              "                  max_samples=1.0, n_estimators=5, n_jobs=-1, oob_score=False,\n",
              "                  random_state=42, verbose=0, warm_start=False)"
            ]
          },
          "metadata": {
            "tags": []
          },
          "execution_count": 40
        }
      ]
    },
    {
      "cell_type": "code",
      "metadata": {
        "colab": {
          "base_uri": "https://localhost:8080/"
        },
        "id": "p-OMY1sK0_7I",
        "outputId": "2aa9efec-8ed9-4664-b896-2f1e9e7c6697"
      },
      "source": [
        "bagging_norm.score(X_test_norm, y_test)"
      ],
      "execution_count": null,
      "outputs": [
        {
          "output_type": "execute_result",
          "data": {
            "text/plain": [
              "0.7952552862300155"
            ]
          },
          "metadata": {
            "tags": []
          },
          "execution_count": 41
        }
      ]
    },
    {
      "cell_type": "markdown",
      "metadata": {
        "id": "plzcDtnP1fCX"
      },
      "source": [
        "#### 8) Boosting"
      ]
    },
    {
      "cell_type": "markdown",
      "metadata": {
        "id": "YBCxXiOft6sE"
      },
      "source": [
        "정규화 적용 전"
      ]
    },
    {
      "cell_type": "code",
      "metadata": {
        "colab": {
          "base_uri": "https://localhost:8080/"
        },
        "id": "tv8hP_P81pqh",
        "outputId": "f1a80b37-f31e-4b04-be91-b7d2b5edf890"
      },
      "source": [
        "from sklearn.ensemble import AdaBoostClassifier\r\n",
        "\r\n",
        "ada = AdaBoostClassifier(n_estimators=100, random_state=42)\r\n",
        "ada.fit(X_train, y_train)"
      ],
      "execution_count": null,
      "outputs": [
        {
          "output_type": "execute_result",
          "data": {
            "text/plain": [
              "AdaBoostClassifier(algorithm='SAMME.R', base_estimator=None, learning_rate=1.0,\n",
              "                   n_estimators=100, random_state=42)"
            ]
          },
          "metadata": {
            "tags": []
          },
          "execution_count": 42
        }
      ]
    },
    {
      "cell_type": "code",
      "metadata": {
        "colab": {
          "base_uri": "https://localhost:8080/"
        },
        "id": "7hEtTJg_1sUw",
        "outputId": "c41f45ee-3b70-4bb5-d94e-cd63793b7581"
      },
      "source": [
        "ada.score(X_test, y_test)"
      ],
      "execution_count": null,
      "outputs": [
        {
          "output_type": "execute_result",
          "data": {
            "text/plain": [
              "0.7529654461062403"
            ]
          },
          "metadata": {
            "tags": []
          },
          "execution_count": 43
        }
      ]
    },
    {
      "cell_type": "markdown",
      "metadata": {
        "id": "N28-znq-t8SP"
      },
      "source": [
        "정규화 적용 후"
      ]
    },
    {
      "cell_type": "code",
      "metadata": {
        "colab": {
          "base_uri": "https://localhost:8080/"
        },
        "id": "yJRsHgXG1vTl",
        "outputId": "bf0c3324-be56-4777-bd24-3464a9e87412"
      },
      "source": [
        "from sklearn.ensemble import AdaBoostClassifier\r\n",
        "\r\n",
        "ada_norm = AdaBoostClassifier(n_estimators=100, random_state=42)\r\n",
        "ada_norm.fit(X_train_norm, y_train)"
      ],
      "execution_count": null,
      "outputs": [
        {
          "output_type": "execute_result",
          "data": {
            "text/plain": [
              "AdaBoostClassifier(algorithm='SAMME.R', base_estimator=None, learning_rate=1.0,\n",
              "                   n_estimators=100, random_state=42)"
            ]
          },
          "metadata": {
            "tags": []
          },
          "execution_count": 44
        }
      ]
    },
    {
      "cell_type": "code",
      "metadata": {
        "colab": {
          "base_uri": "https://localhost:8080/"
        },
        "id": "HxVP-IOv11B1",
        "outputId": "2b2f6205-d6a6-49cc-d81d-fff99aedaf11"
      },
      "source": [
        "ada_norm.score(X_test_norm, y_test)"
      ],
      "execution_count": null,
      "outputs": [
        {
          "output_type": "execute_result",
          "data": {
            "text/plain": [
              "0.7529654461062403"
            ]
          },
          "metadata": {
            "tags": []
          },
          "execution_count": 45
        }
      ]
    },
    {
      "cell_type": "markdown",
      "metadata": {
        "id": "Yjpv9AhW19bL"
      },
      "source": [
        "#### 9) Random Forest"
      ]
    },
    {
      "cell_type": "markdown",
      "metadata": {
        "id": "tRMU3fTdulre"
      },
      "source": [
        "정규화 적용 전"
      ]
    },
    {
      "cell_type": "code",
      "metadata": {
        "colab": {
          "base_uri": "https://localhost:8080/"
        },
        "id": "XEA9uuqx2D5m",
        "outputId": "0a5eb2a9-7f2c-4f80-caf8-768cc35654e6"
      },
      "source": [
        "from sklearn.ensemble import RandomForestClassifier\r\n",
        "\r\n",
        "forest = RandomForestClassifier(n_estimators=5, random_state=42)\r\n",
        "forest.fit(X_train, y_train)"
      ],
      "execution_count": null,
      "outputs": [
        {
          "output_type": "execute_result",
          "data": {
            "text/plain": [
              "RandomForestClassifier(bootstrap=True, ccp_alpha=0.0, class_weight=None,\n",
              "                       criterion='gini', max_depth=None, max_features='auto',\n",
              "                       max_leaf_nodes=None, max_samples=None,\n",
              "                       min_impurity_decrease=0.0, min_impurity_split=None,\n",
              "                       min_samples_leaf=1, min_samples_split=2,\n",
              "                       min_weight_fraction_leaf=0.0, n_estimators=5,\n",
              "                       n_jobs=None, oob_score=False, random_state=42, verbose=0,\n",
              "                       warm_start=False)"
            ]
          },
          "metadata": {
            "tags": []
          },
          "execution_count": 46
        }
      ]
    },
    {
      "cell_type": "code",
      "metadata": {
        "colab": {
          "base_uri": "https://localhost:8080/"
        },
        "id": "nlbb5CBw2IE0",
        "outputId": "bdf1a1f8-d7f0-46f8-f493-b200084df74b"
      },
      "source": [
        "forest.score(X_test, y_test)"
      ],
      "execution_count": null,
      "outputs": [
        {
          "output_type": "execute_result",
          "data": {
            "text/plain": [
              "0.7859721505930892"
            ]
          },
          "metadata": {
            "tags": []
          },
          "execution_count": 47
        }
      ]
    },
    {
      "cell_type": "markdown",
      "metadata": {
        "id": "f50ITtPPunig"
      },
      "source": [
        "정규화 적용 후"
      ]
    },
    {
      "cell_type": "code",
      "metadata": {
        "colab": {
          "base_uri": "https://localhost:8080/"
        },
        "id": "C1XJXxha2URp",
        "outputId": "20e0a496-27bb-4c93-c6f8-c44de7a042c4"
      },
      "source": [
        "from sklearn.ensemble import RandomForestClassifier\r\n",
        "\r\n",
        "forest_norm = RandomForestClassifier(n_estimators=5, random_state=42)\r\n",
        "forest_norm.fit(X_train_norm, y_train)"
      ],
      "execution_count": null,
      "outputs": [
        {
          "output_type": "execute_result",
          "data": {
            "text/plain": [
              "RandomForestClassifier(bootstrap=True, ccp_alpha=0.0, class_weight=None,\n",
              "                       criterion='gini', max_depth=None, max_features='auto',\n",
              "                       max_leaf_nodes=None, max_samples=None,\n",
              "                       min_impurity_decrease=0.0, min_impurity_split=None,\n",
              "                       min_samples_leaf=1, min_samples_split=2,\n",
              "                       min_weight_fraction_leaf=0.0, n_estimators=5,\n",
              "                       n_jobs=None, oob_score=False, random_state=42, verbose=0,\n",
              "                       warm_start=False)"
            ]
          },
          "metadata": {
            "tags": []
          },
          "execution_count": 48
        }
      ]
    },
    {
      "cell_type": "code",
      "metadata": {
        "colab": {
          "base_uri": "https://localhost:8080/"
        },
        "id": "9wKdz9d_2ZZV",
        "outputId": "0e6c205d-28e6-4c4e-fece-f199a60b57c0"
      },
      "source": [
        "forest_norm.score(X_test_norm, y_test)"
      ],
      "execution_count": null,
      "outputs": [
        {
          "output_type": "execute_result",
          "data": {
            "text/plain": [
              "0.7849406910778752"
            ]
          },
          "metadata": {
            "tags": []
          },
          "execution_count": 49
        }
      ]
    },
    {
      "cell_type": "markdown",
      "metadata": {
        "id": "A3LSpDzg2jXh"
      },
      "source": [
        "#### 10) K-Means++"
      ]
    },
    {
      "cell_type": "code",
      "metadata": {
        "colab": {
          "base_uri": "https://localhost:8080/"
        },
        "id": "RK3an3RX6BNU",
        "outputId": "ebf532a4-1ca0-4e22-cbcd-45c17997e57a"
      },
      "source": [
        "from sklearn.cluster import KMeans\r\n",
        "\r\n",
        "kmeans = KMeans(n_clusters=2, random_state=42) \r\n",
        "kmeans.fit(X_train_norm)"
      ],
      "execution_count": null,
      "outputs": [
        {
          "output_type": "execute_result",
          "data": {
            "text/plain": [
              "KMeans(algorithm='auto', copy_x=True, init='k-means++', max_iter=300,\n",
              "       n_clusters=2, n_init=10, n_jobs=None, precompute_distances='auto',\n",
              "       random_state=42, tol=0.0001, verbose=0)"
            ]
          },
          "metadata": {
            "tags": []
          },
          "execution_count": 113
        }
      ]
    },
    {
      "cell_type": "code",
      "metadata": {
        "colab": {
          "base_uri": "https://localhost:8080/"
        },
        "id": "bw_-Y8g16Jc9",
        "outputId": "362602c0-46e9-4faf-b581-cc63ee721cd0"
      },
      "source": [
        "labels = kmeans.predict(X_train_norm)\r\n",
        "print(labels)"
      ],
      "execution_count": null,
      "outputs": [
        {
          "output_type": "stream",
          "text": [
            "[0 0 0 ... 1 1 0]\n"
          ],
          "name": "stdout"
        }
      ]
    },
    {
      "cell_type": "code",
      "metadata": {
        "colab": {
          "base_uri": "https://localhost:8080/",
          "height": 265
        },
        "id": "PkCT_L6M6Oj7",
        "outputId": "d177f8d4-c397-42dd-987e-feb054cadd52"
      },
      "source": [
        "import matplotlib.pyplot as plt\r\n",
        "\r\n",
        "x = X_train.iloc[:, 0]  # 첫 번째 feature\r\n",
        "y = X_train.iloc[:, 1]  # 두 번째 feature\r\n",
        "\r\n",
        "plt.scatter(x, y, c=labels, alpha=0.5)\r\n",
        "plt.show()"
      ],
      "execution_count": null,
      "outputs": [
        {
          "output_type": "display_data",
          "data": {
            "image/png": "[encoded data removed]",
            "text/plain": [
              "<Figure size 432x288 with 1 Axes>"
            ]
          },
          "metadata": {
            "tags": [],
            "needs_background": "light"
          }
        }
      ]
    },
    {
      "cell_type": "code",
      "metadata": {
        "colab": {
          "base_uri": "https://localhost:8080/",
          "height": 399
        },
        "id": "ghPUpWsv6uvc",
        "outputId": "50854a81-b47a-496b-ab28-15fa5a652b03"
      },
      "source": [
        "#  k-means가 부여한 레이블과 실제 target값으로 DataFrame을 만든다\r\n",
        "df = pd.DataFrame({'labels': labels, 'grade': y_train})\r\n",
        "df"
      ],
      "execution_count": null,
      "outputs": [
        {
          "output_type": "execute_result",
          "data": {
            "text/html": [
              "<div>\n",
              "<style scoped>\n",
              "    .dataframe tbody tr th:only-of-type {\n",
              "        vertical-align: middle;\n",
              "    }\n",
              "\n",
              "    .dataframe tbody tr th {\n",
              "        vertical-align: top;\n",
              "    }\n",
              "\n",
              "    .dataframe thead th {\n",
              "        text-align: right;\n",
              "    }\n",
              "</style>\n",
              "<table border=\"1\" class=\"dataframe\">\n",
              "  <thead>\n",
              "    <tr style=\"text-align: right;\">\n",
              "      <th></th>\n",
              "      <th>labels</th>\n",
              "      <th>grade</th>\n",
              "    </tr>\n",
              "  </thead>\n",
              "  <tbody>\n",
              "    <tr>\n",
              "      <th>4702</th>\n",
              "      <td>0</td>\n",
              "      <td>1</td>\n",
              "    </tr>\n",
              "    <tr>\n",
              "      <th>753</th>\n",
              "      <td>0</td>\n",
              "      <td>1</td>\n",
              "    </tr>\n",
              "    <tr>\n",
              "      <th>3754</th>\n",
              "      <td>0</td>\n",
              "      <td>1</td>\n",
              "    </tr>\n",
              "    <tr>\n",
              "      <th>5301</th>\n",
              "      <td>1</td>\n",
              "      <td>1</td>\n",
              "    </tr>\n",
              "    <tr>\n",
              "      <th>4922</th>\n",
              "      <td>1</td>\n",
              "      <td>1</td>\n",
              "    </tr>\n",
              "    <tr>\n",
              "      <th>...</th>\n",
              "      <td>...</td>\n",
              "      <td>...</td>\n",
              "    </tr>\n",
              "    <tr>\n",
              "      <th>3798</th>\n",
              "      <td>0</td>\n",
              "      <td>0</td>\n",
              "    </tr>\n",
              "    <tr>\n",
              "      <th>5219</th>\n",
              "      <td>1</td>\n",
              "      <td>0</td>\n",
              "    </tr>\n",
              "    <tr>\n",
              "      <th>5254</th>\n",
              "      <td>1</td>\n",
              "      <td>0</td>\n",
              "    </tr>\n",
              "    <tr>\n",
              "      <th>5418</th>\n",
              "      <td>1</td>\n",
              "      <td>1</td>\n",
              "    </tr>\n",
              "    <tr>\n",
              "      <th>881</th>\n",
              "      <td>0</td>\n",
              "      <td>1</td>\n",
              "    </tr>\n",
              "  </tbody>\n",
              "</table>\n",
              "<p>4524 rows × 2 columns</p>\n",
              "</div>"
            ],
            "text/plain": [
              "      labels  grade\n",
              "4702       0      1\n",
              "753        0      1\n",
              "3754       0      1\n",
              "5301       1      1\n",
              "4922       1      1\n",
              "...      ...    ...\n",
              "3798       0      0\n",
              "5219       1      0\n",
              "5254       1      0\n",
              "5418       1      1\n",
              "881        0      1\n",
              "\n",
              "[4524 rows x 2 columns]"
            ]
          },
          "metadata": {
            "tags": []
          },
          "execution_count": 116
        }
      ]
    },
    {
      "cell_type": "code",
      "metadata": {
        "colab": {
          "base_uri": "https://localhost:8080/"
        },
        "id": "cqAPxkzO7Wrp",
        "outputId": "09c77048-abe5-4e13-db6a-a66e9a68d754"
      },
      "source": [
        "ct = pd.crosstab(df['labels'], df['grade'])\r\n",
        "print(ct)"
      ],
      "execution_count": null,
      "outputs": [
        {
          "output_type": "stream",
          "text": [
            "grade      0     1\n",
            "labels            \n",
            "0       1133  2275\n",
            "1        517   599\n"
          ],
          "name": "stdout"
        }
      ]
    },
    {
      "cell_type": "code",
      "metadata": {
        "colab": {
          "base_uri": "https://localhost:8080/"
        },
        "id": "W_CdLEgWoqp5",
        "outputId": "8eb3e309-f9bd-4153-e243-4ccac9dd8708"
      },
      "source": [
        "from sklearn.metrics import classification_report\r\n",
        "\r\n",
        "print(classification_report(y_train, labels))"
      ],
      "execution_count": null,
      "outputs": [
        {
          "output_type": "stream",
          "text": [
            "              precision    recall  f1-score   support\n",
            "\n",
            "           0       0.33      0.69      0.45      1650\n",
            "           1       0.54      0.21      0.30      2874\n",
            "\n",
            "    accuracy                           0.38      4524\n",
            "   macro avg       0.43      0.45      0.37      4524\n",
            "weighted avg       0.46      0.38      0.35      4524\n",
            "\n"
          ],
          "name": "stdout"
        }
      ]
    },
    {
      "cell_type": "markdown",
      "metadata": {
        "id": "je7nV7kA8JID"
      },
      "source": [
        "## Section 2. Feature Selection"
      ]
    },
    {
      "cell_type": "markdown",
      "metadata": {
        "id": "REl2TVJjlVE7"
      },
      "source": [
        "### 반복적 특성 선택\r\n",
        "\r\n",
        "Recursive Feature Elimination"
      ]
    },
    {
      "cell_type": "code",
      "metadata": {
        "colab": {
          "base_uri": "https://localhost:8080/"
        },
        "id": "qaQ8f8cOEVoQ",
        "outputId": "9ad3e37e-7df1-410d-aa50-1edf082763e3"
      },
      "source": [
        "from sklearn.linear_model import LinearRegression\r\n",
        "from sklearn.feature_selection import RFE\r\n",
        "\r\n",
        "lr = LinearRegression()\r\n",
        "rfe = RFE(estimator=lr, n_features_to_select=11, step=1)\r\n",
        "rfe.fit(X_train_norm, y_train)"
      ],
      "execution_count": null,
      "outputs": [
        {
          "output_type": "execute_result",
          "data": {
            "text/plain": [
              "RFE(estimator=LinearRegression(copy_X=True, fit_intercept=True, n_jobs=None,\n",
              "                               normalize=False),\n",
              "    n_features_to_select=11, step=1, verbose=0)"
            ]
          },
          "metadata": {
            "tags": []
          },
          "execution_count": 56
        }
      ]
    },
    {
      "cell_type": "code",
      "metadata": {
        "colab": {
          "base_uri": "https://localhost:8080/"
        },
        "id": "LXAK7Yx5EnFP",
        "outputId": "8677c66d-9d71-49f1-e593-bcb40b6f678c"
      },
      "source": [
        "rfe.ranking_"
      ],
      "execution_count": null,
      "outputs": [
        {
          "output_type": "execute_result",
          "data": {
            "text/plain": [
              "array([2, 1, 1, 1, 1, 1, 1, 1, 1, 1, 1, 1])"
            ]
          },
          "metadata": {
            "tags": []
          },
          "execution_count": 57
        }
      ]
    },
    {
      "cell_type": "code",
      "metadata": {
        "colab": {
          "base_uri": "https://localhost:8080/"
        },
        "id": "wMGXnlJXFNE6",
        "outputId": "273381e9-ec06-414d-95ae-12106f136354"
      },
      "source": [
        "# 선택된 특성 시각화\r\n",
        "mask = rfe.get_support()\r\n",
        "plt.matshow(mask.reshape(1, -1), cmap='gray_r')\r\n",
        "plt.yticks([0])"
      ],
      "execution_count": null,
      "outputs": [
        {
          "output_type": "execute_result",
          "data": {
            "text/plain": [
              "([<matplotlib.axis.YTick at 0x7fe2034a7320>],\n",
              " <a list of 1 Text major ticklabel objects>)"
            ]
          },
          "metadata": {
            "tags": []
          },
          "execution_count": 58
        },
        {
          "output_type": "display_data",
          "data": {
            "image/png": "[encoded data removed]",
            "text/plain": [
              "<Figure size 1152x144 with 1 Axes>"
            ]
          },
          "metadata": {
            "tags": [],
            "needs_background": "light"
          }
        }
      ]
    },
    {
      "cell_type": "code",
      "metadata": {
        "colab": {
          "base_uri": "https://localhost:8080/"
        },
        "id": "7tnNeh-DFArx",
        "outputId": "a6a592bc-86fb-4de0-c064-4213af566551"
      },
      "source": [
        "X_train_fs = rfe.transform(X_train_norm)\r\n",
        "X_test_fs = rfe.transform(X_test_norm)\r\n",
        "print(X_train_norm.shape)\r\n",
        "print(X_train_fs.shape) # feature selection을 통과한 것"
      ],
      "execution_count": null,
      "outputs": [
        {
          "output_type": "stream",
          "text": [
            "(4524, 12)\n",
            "(4524, 11)\n"
          ],
          "name": "stdout"
        }
      ]
    },
    {
      "cell_type": "markdown",
      "metadata": {
        "id": "YTLTB7BTxwKV"
      },
      "source": [
        "### Feature Selection 모델 적용\r\n"
      ]
    },
    {
      "cell_type": "markdown",
      "metadata": {
        "id": "38tPE16sxwK7"
      },
      "source": [
        "##### 1) Naive Bayes"
      ]
    },
    {
      "cell_type": "code",
      "metadata": {
        "colab": {
          "base_uri": "https://localhost:8080/"
        },
        "id": "LB1eFPmBxwK9",
        "outputId": "0703b7be-6628-46fc-ca00-bd59c96cb0de"
      },
      "source": [
        "from sklearn.naive_bayes import CategoricalNB\r\n",
        "\r\n",
        "naive_bayes_fs = CategoricalNB()\r\n",
        "naive_bayes_fs.fit(X_train_fs, y_train)"
      ],
      "execution_count": null,
      "outputs": [
        {
          "output_type": "execute_result",
          "data": {
            "text/plain": [
              "CategoricalNB(alpha=1.0, class_prior=None, fit_prior=True)"
            ]
          },
          "metadata": {
            "tags": []
          },
          "execution_count": 60
        }
      ]
    },
    {
      "cell_type": "code",
      "metadata": {
        "colab": {
          "base_uri": "https://localhost:8080/"
        },
        "id": "2gphrPyFxwLA",
        "outputId": "7bf7c5c5-8416-4a46-990f-bfde382addba"
      },
      "source": [
        "naive_bayes_fs.score(X_test_fs, y_test)"
      ],
      "execution_count": null,
      "outputs": [
        {
          "output_type": "execute_result",
          "data": {
            "text/plain": [
              "0.630737493553378"
            ]
          },
          "metadata": {
            "tags": []
          },
          "execution_count": 61
        }
      ]
    },
    {
      "cell_type": "markdown",
      "metadata": {
        "id": "NxREs14GxwLC"
      },
      "source": [
        "#### 2) Decision Tree"
      ]
    },
    {
      "cell_type": "code",
      "metadata": {
        "colab": {
          "base_uri": "https://localhost:8080/"
        },
        "id": "dBAMvlgtxwLD",
        "outputId": "89714c79-c62c-4e0b-c33f-39562e49c699"
      },
      "source": [
        "from sklearn.tree import DecisionTreeClassifier\r\n",
        "\r\n",
        "decision_tree_fs = DecisionTreeClassifier(random_state=42)\r\n",
        "decision_tree_fs.fit(X_train_fs, y_train)"
      ],
      "execution_count": null,
      "outputs": [
        {
          "output_type": "execute_result",
          "data": {
            "text/plain": [
              "DecisionTreeClassifier(ccp_alpha=0.0, class_weight=None, criterion='gini',\n",
              "                       max_depth=None, max_features=None, max_leaf_nodes=None,\n",
              "                       min_impurity_decrease=0.0, min_impurity_split=None,\n",
              "                       min_samples_leaf=1, min_samples_split=2,\n",
              "                       min_weight_fraction_leaf=0.0, presort='deprecated',\n",
              "                       random_state=42, splitter='best')"
            ]
          },
          "metadata": {
            "tags": []
          },
          "execution_count": 62
        }
      ]
    },
    {
      "cell_type": "code",
      "metadata": {
        "colab": {
          "base_uri": "https://localhost:8080/"
        },
        "id": "f2Xfzt7mxwLE",
        "outputId": "2510197d-b757-4a70-d1ba-680a77e762d9"
      },
      "source": [
        "decision_tree_fs.score(X_test_fs, y_test)"
      ],
      "execution_count": null,
      "outputs": [
        {
          "output_type": "execute_result",
          "data": {
            "text/plain": [
              "0.7570912841670965"
            ]
          },
          "metadata": {
            "tags": []
          },
          "execution_count": 63
        }
      ]
    },
    {
      "cell_type": "markdown",
      "metadata": {
        "id": "YB3l0nCUxwLF"
      },
      "source": [
        "#### 3) Logistic Regression"
      ]
    },
    {
      "cell_type": "code",
      "metadata": {
        "colab": {
          "base_uri": "https://localhost:8080/"
        },
        "id": "ylyuTbC5xwLG",
        "outputId": "7859432c-533b-4595-ff58-197b2e3e90f4"
      },
      "source": [
        "from sklearn.linear_model import LogisticRegression\r\n",
        "\r\n",
        "logistic_reg_fs = LogisticRegression(max_iter=2000, random_state=42)\r\n",
        "logistic_reg_fs.fit(X_train_fs, y_train)"
      ],
      "execution_count": null,
      "outputs": [
        {
          "output_type": "execute_result",
          "data": {
            "text/plain": [
              "LogisticRegression(C=1.0, class_weight=None, dual=False, fit_intercept=True,\n",
              "                   intercept_scaling=1, l1_ratio=None, max_iter=2000,\n",
              "                   multi_class='auto', n_jobs=None, penalty='l2',\n",
              "                   random_state=42, solver='lbfgs', tol=0.0001, verbose=0,\n",
              "                   warm_start=False)"
            ]
          },
          "metadata": {
            "tags": []
          },
          "execution_count": 64
        }
      ]
    },
    {
      "cell_type": "code",
      "metadata": {
        "colab": {
          "base_uri": "https://localhost:8080/"
        },
        "id": "URQH-lAyxwLI",
        "outputId": "bbc4ca77-39b0-4619-cdb5-be1dc0ceebcc"
      },
      "source": [
        "logistic_reg_fs.score(X_test_fs, y_test)"
      ],
      "execution_count": null,
      "outputs": [
        {
          "output_type": "execute_result",
          "data": {
            "text/plain": [
              "0.7488396080453842"
            ]
          },
          "metadata": {
            "tags": []
          },
          "execution_count": 65
        }
      ]
    },
    {
      "cell_type": "markdown",
      "metadata": {
        "id": "NzEj67MZxwLJ"
      },
      "source": [
        "#### 4) Perceptron"
      ]
    },
    {
      "cell_type": "code",
      "metadata": {
        "colab": {
          "base_uri": "https://localhost:8080/"
        },
        "id": "PdjRJ7izxwLK",
        "outputId": "43a2d806-b926-493e-b51f-f7999c2c9f59"
      },
      "source": [
        "from sklearn.linear_model import Perceptron\r\n",
        "\r\n",
        "perceptron_fs = Perceptron(random_state=42)\r\n",
        "perceptron_fs.fit(X_train_fs, y_train)"
      ],
      "execution_count": null,
      "outputs": [
        {
          "output_type": "execute_result",
          "data": {
            "text/plain": [
              "Perceptron(alpha=0.0001, class_weight=None, early_stopping=False, eta0=1.0,\n",
              "           fit_intercept=True, max_iter=1000, n_iter_no_change=5, n_jobs=None,\n",
              "           penalty=None, random_state=42, shuffle=True, tol=0.001,\n",
              "           validation_fraction=0.1, verbose=0, warm_start=False)"
            ]
          },
          "metadata": {
            "tags": []
          },
          "execution_count": 66
        }
      ]
    },
    {
      "cell_type": "code",
      "metadata": {
        "colab": {
          "base_uri": "https://localhost:8080/"
        },
        "id": "IqumqFbNxwLL",
        "outputId": "8210fca3-d6fb-48fe-e94e-cdcd9d0df3dd"
      },
      "source": [
        "perceptron_fs.score(X_test_fs, y_test)"
      ],
      "execution_count": null,
      "outputs": [
        {
          "output_type": "execute_result",
          "data": {
            "text/plain": [
              "0.703971119133574"
            ]
          },
          "metadata": {
            "tags": []
          },
          "execution_count": 67
        }
      ]
    },
    {
      "cell_type": "markdown",
      "metadata": {
        "id": "deAFuG-0xwLM"
      },
      "source": [
        "#### 5) MLP"
      ]
    },
    {
      "cell_type": "code",
      "metadata": {
        "colab": {
          "base_uri": "https://localhost:8080/"
        },
        "id": "VqkxprJSxwLN",
        "outputId": "a6e6dd5e-4e62-474a-b3c0-5ddb7457b878"
      },
      "source": [
        "from sklearn.neural_network import MLPClassifier\r\n",
        "\r\n",
        "mlp_fs = MLPClassifier(random_state=42)\r\n",
        "mlp_fs.fit(X_train_fs, y_train)"
      ],
      "execution_count": null,
      "outputs": [
        {
          "output_type": "stream",
          "text": [
            "/usr/local/lib/python3.6/dist-packages/sklearn/neural_network/_multilayer_perceptron.py:571: ConvergenceWarning: Stochastic Optimizer: Maximum iterations (200) reached and the optimization hasn't converged yet.\n",
            "  % self.max_iter, ConvergenceWarning)\n"
          ],
          "name": "stderr"
        },
        {
          "output_type": "execute_result",
          "data": {
            "text/plain": [
              "MLPClassifier(activation='relu', alpha=0.0001, batch_size='auto', beta_1=0.9,\n",
              "              beta_2=0.999, early_stopping=False, epsilon=1e-08,\n",
              "              hidden_layer_sizes=(100,), learning_rate='constant',\n",
              "              learning_rate_init=0.001, max_fun=15000, max_iter=200,\n",
              "              momentum=0.9, n_iter_no_change=10, nesterovs_momentum=True,\n",
              "              power_t=0.5, random_state=42, shuffle=True, solver='adam',\n",
              "              tol=0.0001, validation_fraction=0.1, verbose=False,\n",
              "              warm_start=False)"
            ]
          },
          "metadata": {
            "tags": []
          },
          "execution_count": 68
        }
      ]
    },
    {
      "cell_type": "code",
      "metadata": {
        "colab": {
          "base_uri": "https://localhost:8080/"
        },
        "id": "vONdOjFaxwLO",
        "outputId": "0721961a-ec9f-4a32-8d9b-3eacd8a1b78e"
      },
      "source": [
        "mlp_fs.score(X_test_fs, y_test)"
      ],
      "execution_count": null,
      "outputs": [
        {
          "output_type": "execute_result",
          "data": {
            "text/plain": [
              "0.7658586900464157"
            ]
          },
          "metadata": {
            "tags": []
          },
          "execution_count": 69
        }
      ]
    },
    {
      "cell_type": "markdown",
      "metadata": {
        "id": "ZNaRTR_gxwLP"
      },
      "source": [
        "#### 6) KNN"
      ]
    },
    {
      "cell_type": "code",
      "metadata": {
        "colab": {
          "base_uri": "https://localhost:8080/"
        },
        "id": "z5TwzCjaxwLQ",
        "outputId": "58b7bfe3-7cd6-471c-e22b-7f08bcc31713"
      },
      "source": [
        "from sklearn.neighbors import KNeighborsClassifier\r\n",
        "\r\n",
        "knn_fs = KNeighborsClassifier()\r\n",
        "knn_fs.fit(X_train_fs, y_train)"
      ],
      "execution_count": null,
      "outputs": [
        {
          "output_type": "execute_result",
          "data": {
            "text/plain": [
              "KNeighborsClassifier(algorithm='auto', leaf_size=30, metric='minkowski',\n",
              "                     metric_params=None, n_jobs=None, n_neighbors=5, p=2,\n",
              "                     weights='uniform')"
            ]
          },
          "metadata": {
            "tags": []
          },
          "execution_count": 70
        }
      ]
    },
    {
      "cell_type": "code",
      "metadata": {
        "colab": {
          "base_uri": "https://localhost:8080/"
        },
        "id": "-NjbqBIexwLQ",
        "outputId": "577346ed-3ef3-45e7-8de8-4db1077e5f94"
      },
      "source": [
        "knn_fs.score(X_test_fs, y_test)"
      ],
      "execution_count": null,
      "outputs": [
        {
          "output_type": "execute_result",
          "data": {
            "text/plain": [
              "0.7570912841670965"
            ]
          },
          "metadata": {
            "tags": []
          },
          "execution_count": 71
        }
      ]
    },
    {
      "cell_type": "markdown",
      "metadata": {
        "id": "dn2DehU1xwLR"
      },
      "source": [
        "#### 7) Bagging\r\n",
        "\r\n",
        "Bagging with Decision Tree Classifier"
      ]
    },
    {
      "cell_type": "code",
      "metadata": {
        "colab": {
          "base_uri": "https://localhost:8080/"
        },
        "id": "8s4AEzA8xwLS",
        "outputId": "4bf52fb2-0fcd-404a-bc11-dbdefda0f6de"
      },
      "source": [
        "from sklearn.tree import DecisionTreeClassifier\r\n",
        "from sklearn.ensemble import BaggingClassifier\r\n",
        "\r\n",
        "bagging_fs = BaggingClassifier(DecisionTreeClassifier(),\r\n",
        "                            n_estimators=5,\r\n",
        "                            n_jobs=-1,\r\n",
        "                            random_state=42)\r\n",
        "bagging_fs.fit(X_train_fs, y_train)"
      ],
      "execution_count": null,
      "outputs": [
        {
          "output_type": "execute_result",
          "data": {
            "text/plain": [
              "BaggingClassifier(base_estimator=DecisionTreeClassifier(ccp_alpha=0.0,\n",
              "                                                        class_weight=None,\n",
              "                                                        criterion='gini',\n",
              "                                                        max_depth=None,\n",
              "                                                        max_features=None,\n",
              "                                                        max_leaf_nodes=None,\n",
              "                                                        min_impurity_decrease=0.0,\n",
              "                                                        min_impurity_split=None,\n",
              "                                                        min_samples_leaf=1,\n",
              "                                                        min_samples_split=2,\n",
              "                                                        min_weight_fraction_leaf=0.0,\n",
              "                                                        presort='deprecated',\n",
              "                                                        random_state=None,\n",
              "                                                        splitter='best'),\n",
              "                  bootstrap=True, bootstrap_features=False, max_features=1.0,\n",
              "                  max_samples=1.0, n_estimators=5, n_jobs=-1, oob_score=False,\n",
              "                  random_state=42, verbose=0, warm_start=False)"
            ]
          },
          "metadata": {
            "tags": []
          },
          "execution_count": 72
        }
      ]
    },
    {
      "cell_type": "code",
      "metadata": {
        "colab": {
          "base_uri": "https://localhost:8080/"
        },
        "id": "6XGibclGxwLT",
        "outputId": "5156bb5f-561d-46e8-de06-556bbf60b5e9"
      },
      "source": [
        "bagging_fs.score(X_test_fs, y_test)"
      ],
      "execution_count": null,
      "outputs": [
        {
          "output_type": "execute_result",
          "data": {
            "text/plain": [
              "0.7926766374419804"
            ]
          },
          "metadata": {
            "tags": []
          },
          "execution_count": 73
        }
      ]
    },
    {
      "cell_type": "markdown",
      "metadata": {
        "id": "yETEQuN7xwLU"
      },
      "source": [
        "#### 8) Boosting"
      ]
    },
    {
      "cell_type": "code",
      "metadata": {
        "colab": {
          "base_uri": "https://localhost:8080/"
        },
        "id": "cvO1FwsOxwLU",
        "outputId": "f598c1cd-93e2-4028-ccaa-0ba245481057"
      },
      "source": [
        "from sklearn.ensemble import AdaBoostClassifier\r\n",
        "\r\n",
        "ada_fs = AdaBoostClassifier(n_estimators=100, random_state=42)\r\n",
        "ada_fs.fit(X_train_fs, y_train)"
      ],
      "execution_count": null,
      "outputs": [
        {
          "output_type": "execute_result",
          "data": {
            "text/plain": [
              "AdaBoostClassifier(algorithm='SAMME.R', base_estimator=None, learning_rate=1.0,\n",
              "                   n_estimators=100, random_state=42)"
            ]
          },
          "metadata": {
            "tags": []
          },
          "execution_count": 74
        }
      ]
    },
    {
      "cell_type": "code",
      "metadata": {
        "colab": {
          "base_uri": "https://localhost:8080/"
        },
        "id": "Xksu60rNxwLV",
        "outputId": "72679eeb-7eab-4bc8-d874-dc59dab6de51"
      },
      "source": [
        "ada_fs.score(X_test_fs, y_test)"
      ],
      "execution_count": null,
      "outputs": [
        {
          "output_type": "execute_result",
          "data": {
            "text/plain": [
              "0.7529654461062403"
            ]
          },
          "metadata": {
            "tags": []
          },
          "execution_count": 75
        }
      ]
    },
    {
      "cell_type": "markdown",
      "metadata": {
        "id": "QaIPDgnIxwLW"
      },
      "source": [
        "#### 9) Random Forest"
      ]
    },
    {
      "cell_type": "code",
      "metadata": {
        "colab": {
          "base_uri": "https://localhost:8080/"
        },
        "id": "zqE_Vo4RxwLX",
        "outputId": "60ebdd8c-98ba-49be-8748-a52545a20a85"
      },
      "source": [
        "from sklearn.ensemble import RandomForestClassifier\r\n",
        "\r\n",
        "forest_fs = RandomForestClassifier(n_estimators=5, random_state=42)\r\n",
        "forest_fs.fit(X_train_fs, y_train)"
      ],
      "execution_count": null,
      "outputs": [
        {
          "output_type": "execute_result",
          "data": {
            "text/plain": [
              "RandomForestClassifier(bootstrap=True, ccp_alpha=0.0, class_weight=None,\n",
              "                       criterion='gini', max_depth=None, max_features='auto',\n",
              "                       max_leaf_nodes=None, max_samples=None,\n",
              "                       min_impurity_decrease=0.0, min_impurity_split=None,\n",
              "                       min_samples_leaf=1, min_samples_split=2,\n",
              "                       min_weight_fraction_leaf=0.0, n_estimators=5,\n",
              "                       n_jobs=None, oob_score=False, random_state=42, verbose=0,\n",
              "                       warm_start=False)"
            ]
          },
          "metadata": {
            "tags": []
          },
          "execution_count": 76
        }
      ]
    },
    {
      "cell_type": "code",
      "metadata": {
        "colab": {
          "base_uri": "https://localhost:8080/"
        },
        "id": "O5ZEH5kWxwLY",
        "outputId": "a19f9b6a-7333-4f8e-cfff-128c144722f3"
      },
      "source": [
        "forest_fs.score(X_test_fs, y_test)"
      ],
      "execution_count": null,
      "outputs": [
        {
          "output_type": "execute_result",
          "data": {
            "text/plain": [
              "0.7911294481691593"
            ]
          },
          "metadata": {
            "tags": []
          },
          "execution_count": 77
        }
      ]
    },
    {
      "cell_type": "markdown",
      "metadata": {
        "id": "zPsXs0PAxwLY"
      },
      "source": [
        "#### 10) K-Means++"
      ]
    },
    {
      "cell_type": "code",
      "metadata": {
        "colab": {
          "base_uri": "https://localhost:8080/"
        },
        "id": "PAQi9E0pxwLZ",
        "outputId": "852c7d09-db56-4e6d-ef23-27713aceeca3"
      },
      "source": [
        "from sklearn.cluster import KMeans\r\n",
        "\r\n",
        "kmeans_fs = KMeans(n_clusters=2) \r\n",
        "kmeans_fs.fit(X_train_fs)"
      ],
      "execution_count": null,
      "outputs": [
        {
          "output_type": "execute_result",
          "data": {
            "text/plain": [
              "KMeans(algorithm='auto', copy_x=True, init='k-means++', max_iter=300,\n",
              "       n_clusters=2, n_init=10, n_jobs=None, precompute_distances='auto',\n",
              "       random_state=None, tol=0.0001, verbose=0)"
            ]
          },
          "metadata": {
            "tags": []
          },
          "execution_count": 78
        }
      ]
    },
    {
      "cell_type": "code",
      "metadata": {
        "colab": {
          "base_uri": "https://localhost:8080/"
        },
        "id": "J93efkijxwLa",
        "outputId": "18cc16a6-293e-49e9-9b49-8db7171bd378"
      },
      "source": [
        "labels_fs = kmeans_fs.predict(X_train_fs)\r\n",
        "print(labels_fs)"
      ],
      "execution_count": null,
      "outputs": [
        {
          "output_type": "stream",
          "text": [
            "[1 0 0 ... 1 1 0]\n"
          ],
          "name": "stdout"
        }
      ]
    },
    {
      "cell_type": "code",
      "metadata": {
        "colab": {
          "base_uri": "https://localhost:8080/",
          "height": 265
        },
        "id": "jgJ5peSUxwLb",
        "outputId": "18c88973-cf6f-45da-9c8e-d029573e7ed4"
      },
      "source": [
        "import matplotlib.pyplot as plt\r\n",
        "\r\n",
        "x = X_train.iloc[:, 0]\r\n",
        "y = X_train.iloc[:, 1]\r\n",
        "\r\n",
        "plt.scatter(x, y, c=labels_fs, alpha=0.5)\r\n",
        "plt.show()"
      ],
      "execution_count": null,
      "outputs": [
        {
          "output_type": "display_data",
          "data": {
            "image/png": "[encoded data removed]",
            "text/plain": [
              "<Figure size 432x288 with 1 Axes>"
            ]
          },
          "metadata": {
            "tags": [],
            "needs_background": "light"
          }
        }
      ]
    },
    {
      "cell_type": "code",
      "metadata": {
        "colab": {
          "base_uri": "https://localhost:8080/",
          "height": 399
        },
        "id": "msd_B3zNxwLc",
        "outputId": "7108ae49-cca9-42a0-bae4-9e28d2e55b2a"
      },
      "source": [
        "#  k-means가 부여한 레이블과 실제 target값으로 DataFrame을 만듭니다.\r\n",
        "df = pd.DataFrame({'labels': labels_fs, 'grade': y_train})\r\n",
        "df"
      ],
      "execution_count": null,
      "outputs": [
        {
          "output_type": "execute_result",
          "data": {
            "text/html": [
              "<div>\n",
              "<style scoped>\n",
              "    .dataframe tbody tr th:only-of-type {\n",
              "        vertical-align: middle;\n",
              "    }\n",
              "\n",
              "    .dataframe tbody tr th {\n",
              "        vertical-align: top;\n",
              "    }\n",
              "\n",
              "    .dataframe thead th {\n",
              "        text-align: right;\n",
              "    }\n",
              "</style>\n",
              "<table border=\"1\" class=\"dataframe\">\n",
              "  <thead>\n",
              "    <tr style=\"text-align: right;\">\n",
              "      <th></th>\n",
              "      <th>labels</th>\n",
              "      <th>grade</th>\n",
              "    </tr>\n",
              "  </thead>\n",
              "  <tbody>\n",
              "    <tr>\n",
              "      <th>4702</th>\n",
              "      <td>1</td>\n",
              "      <td>1</td>\n",
              "    </tr>\n",
              "    <tr>\n",
              "      <th>753</th>\n",
              "      <td>0</td>\n",
              "      <td>1</td>\n",
              "    </tr>\n",
              "    <tr>\n",
              "      <th>3754</th>\n",
              "      <td>0</td>\n",
              "      <td>1</td>\n",
              "    </tr>\n",
              "    <tr>\n",
              "      <th>5301</th>\n",
              "      <td>1</td>\n",
              "      <td>1</td>\n",
              "    </tr>\n",
              "    <tr>\n",
              "      <th>4922</th>\n",
              "      <td>1</td>\n",
              "      <td>1</td>\n",
              "    </tr>\n",
              "    <tr>\n",
              "      <th>...</th>\n",
              "      <td>...</td>\n",
              "      <td>...</td>\n",
              "    </tr>\n",
              "    <tr>\n",
              "      <th>3798</th>\n",
              "      <td>0</td>\n",
              "      <td>0</td>\n",
              "    </tr>\n",
              "    <tr>\n",
              "      <th>5219</th>\n",
              "      <td>1</td>\n",
              "      <td>0</td>\n",
              "    </tr>\n",
              "    <tr>\n",
              "      <th>5254</th>\n",
              "      <td>1</td>\n",
              "      <td>0</td>\n",
              "    </tr>\n",
              "    <tr>\n",
              "      <th>5418</th>\n",
              "      <td>1</td>\n",
              "      <td>1</td>\n",
              "    </tr>\n",
              "    <tr>\n",
              "      <th>881</th>\n",
              "      <td>0</td>\n",
              "      <td>1</td>\n",
              "    </tr>\n",
              "  </tbody>\n",
              "</table>\n",
              "<p>4524 rows × 2 columns</p>\n",
              "</div>"
            ],
            "text/plain": [
              "      labels  grade\n",
              "4702       1      1\n",
              "753        0      1\n",
              "3754       0      1\n",
              "5301       1      1\n",
              "4922       1      1\n",
              "...      ...    ...\n",
              "3798       0      0\n",
              "5219       1      0\n",
              "5254       1      0\n",
              "5418       1      1\n",
              "881        0      1\n",
              "\n",
              "[4524 rows x 2 columns]"
            ]
          },
          "metadata": {
            "tags": []
          },
          "execution_count": 81
        }
      ]
    },
    {
      "cell_type": "code",
      "metadata": {
        "colab": {
          "base_uri": "https://localhost:8080/"
        },
        "id": "_u0z0jlhxwLd",
        "outputId": "e2f22977-a210-408b-92d0-044b2c50040e"
      },
      "source": [
        "ct_fs = pd.crosstab(df['labels'], df['grade'])\r\n",
        "print(ct_fs)"
      ],
      "execution_count": null,
      "outputs": [
        {
          "output_type": "stream",
          "text": [
            "grade      0     1\n",
            "labels            \n",
            "0       1087  2266\n",
            "1        563   608\n"
          ],
          "name": "stdout"
        }
      ]
    },
    {
      "cell_type": "code",
      "metadata": {
        "colab": {
          "base_uri": "https://localhost:8080/"
        },
        "id": "OVhfvZuApqj6",
        "outputId": "9b75a67f-a232-48c1-d710-9b249f8477c3"
      },
      "source": [
        "from sklearn.metrics import classification_report\r\n",
        "\r\n",
        "print(classification_report(y_train, labels))"
      ],
      "execution_count": null,
      "outputs": [
        {
          "output_type": "stream",
          "text": [
            "              precision    recall  f1-score   support\n",
            "\n",
            "           0       0.46      0.31      0.37      1650\n",
            "           1       0.67      0.79      0.72      2874\n",
            "\n",
            "    accuracy                           0.62      4524\n",
            "   macro avg       0.57      0.55      0.55      4524\n",
            "weighted avg       0.59      0.62      0.60      4524\n",
            "\n"
          ],
          "name": "stdout"
        }
      ]
    },
    {
      "cell_type": "markdown",
      "metadata": {
        "id": "EjCUe4E61kMi"
      },
      "source": [
        "## Section 3. Optimize Models\r\n",
        "\r\n",
        "가장 성능이 좋았던 모델 세 개(MLP, Bagging, Random Forest)를 선택하여 매개변수를 변경해 가며 정확도 개선을 시도해 보도록 하겠다.\r\n",
        "\r\n",
        "과적합(overfitting)을 방지하기 위해 cross validation을 이용하여 정확도 비교를 하고자 한다."
      ]
    },
    {
      "cell_type": "markdown",
      "metadata": {
        "id": "x4eVd6sPCoqV"
      },
      "source": [
        "### 1) MLP"
      ]
    },
    {
      "cell_type": "markdown",
      "metadata": {
        "id": "NiKwEAyzPd1k"
      },
      "source": [
        "#### hidden_layer 개수 변경"
      ]
    },
    {
      "cell_type": "code",
      "metadata": {
        "colab": {
          "base_uri": "https://localhost:8080/"
        },
        "id": "rfwe-JnNMC9j",
        "outputId": "66a277d3-21ac-4b9b-f096-205b592fa214"
      },
      "source": [
        "from sklearn.model_selection import StratifiedKFold \r\n",
        "from sklearn.neural_network import MLPClassifier\r\n",
        "import numpy as np\r\n",
        "from pprint import pprint\r\n",
        "\r\n",
        "hidden_layer_list = [100, 110, 120, 130, 140, 150]\r\n",
        "scores = []\r\n",
        "\r\n",
        "for n in hidden_layer_list:\r\n",
        "  print(n)\r\n",
        "  skf = StratifiedKFold(n_splits=5) \r\n",
        "  val_accuracy = np.array([])\r\n",
        "  for train_index, val_index in skf.split(X_train_fs, y_train):\r\n",
        "    X_train_cv, X_val_cv = X_train_fs[train_index], X_train_fs[val_index]\r\n",
        "    y_train_cv, y_val_cv = y_train.iloc[train_index], y_train.iloc[val_index]\r\n",
        "\r\n",
        "    mlp =  MLPClassifier(hidden_layer_sizes=n, max_iter=1000, random_state=42, early_stopping=True)\r\n",
        "\r\n",
        "    mlp.fit(X_train_cv, y_train_cv)\r\n",
        "    score = mlp.score(X_val_cv, y_val_cv)\r\n",
        "    val_accuracy = np.append(val_accuracy, score)\r\n",
        "  scores = np.append(scores, val_accuracy.mean())\r\n",
        "\r\n",
        "pprint(scores)"
      ],
      "execution_count": null,
      "outputs": [
        {
          "output_type": "stream",
          "text": [
            "100\n",
            "110\n",
            "120\n",
            "130\n",
            "140\n",
            "150\n",
            "array([0.72657092, 0.74049797, 0.7265719 , 0.72922407, 0.73519264,\n",
            "       0.72635164])\n"
          ],
          "name": "stdout"
        }
      ]
    },
    {
      "cell_type": "code",
      "metadata": {
        "colab": {
          "base_uri": "https://localhost:8080/",
          "height": 282
        },
        "id": "aIkOJWEuMaHv",
        "outputId": "cff0608a-6a0e-40ae-a651-f6a794c64868"
      },
      "source": [
        "import matplotlib.pyplot as plt\r\n",
        "\r\n",
        "plt.plot(hidden_layer_list, scores)"
      ],
      "execution_count": null,
      "outputs": [
        {
          "output_type": "execute_result",
          "data": {
            "text/plain": [
              "[<matplotlib.lines.Line2D at 0x7fe200bcf748>]"
            ]
          },
          "metadata": {
            "tags": []
          },
          "execution_count": 85
        },
        {
          "output_type": "display_data",
          "data": {
            "image/png": "[encoded data removed]",
            "text/plain": [
              "<Figure size 432x288 with 1 Axes>"
            ]
          },
          "metadata": {
            "tags": [],
            "needs_background": "light"
          }
        }
      ]
    },
    {
      "cell_type": "code",
      "metadata": {
        "colab": {
          "base_uri": "https://localhost:8080/"
        },
        "id": "lZKuD-Q1Mno2",
        "outputId": "51e5a85c-e593-46d0-f41d-3917842d7247"
      },
      "source": [
        "hidden_layer_list[np.argmax(scores)]"
      ],
      "execution_count": null,
      "outputs": [
        {
          "output_type": "execute_result",
          "data": {
            "text/plain": [
              "110"
            ]
          },
          "metadata": {
            "tags": []
          },
          "execution_count": 86
        }
      ]
    },
    {
      "cell_type": "code",
      "metadata": {
        "colab": {
          "base_uri": "https://localhost:8080/"
        },
        "id": "GF-vu8tmMtef",
        "outputId": "91a1e050-3ca4-426b-d859-6dfb47e64682"
      },
      "source": [
        "optimal_mlp =  MLPClassifier(hidden_layer_sizes=110, max_iter=1000, random_state=42, early_stopping=True)\r\n",
        "optimal_mlp.fit(X_train_fs, y_train)\r\n",
        "print(optimal_mlp.score(X_test_fs, y_test))"
      ],
      "execution_count": null,
      "outputs": [
        {
          "output_type": "stream",
          "text": [
            "0.7488396080453842\n"
          ],
          "name": "stdout"
        }
      ]
    },
    {
      "cell_type": "markdown",
      "metadata": {
        "id": "LkvmkmJ_34RW"
      },
      "source": [
        "### 2) Bagging"
      ]
    },
    {
      "cell_type": "markdown",
      "metadata": {
        "id": "3YPApgypPkem"
      },
      "source": [
        "#### estimator 변경\r\n",
        "\r\n",
        "DecisionTreeClassifier 대신 LogisticRegression과 KNN을 사용해 보도록 하겠다."
      ]
    },
    {
      "cell_type": "code",
      "metadata": {
        "colab": {
          "base_uri": "https://localhost:8080/"
        },
        "id": "RFQSVeSOP5ya",
        "outputId": "43e4ad10-a7c5-4f7a-b23e-7c16e0d56a5c"
      },
      "source": [
        "from sklearn.linear_model import LogisticRegression\r\n",
        "from sklearn.ensemble import BaggingClassifier\r\n",
        "\r\n",
        "bagging = BaggingClassifier(LogisticRegression(), n_estimators= 5 , n_jobs=-1, random_state=42)\r\n",
        "bagging.fit(X_train_fs, y_train)\r\n",
        "print(bagging.score(X_test_fs, y_test))"
      ],
      "execution_count": null,
      "outputs": [
        {
          "output_type": "stream",
          "text": [
            "0.7483238782877772\n"
          ],
          "name": "stdout"
        }
      ]
    },
    {
      "cell_type": "code",
      "metadata": {
        "colab": {
          "base_uri": "https://localhost:8080/"
        },
        "id": "UeFEPUXCQrJy",
        "outputId": "ca787472-e247-4ef8-ceeb-87df6d051f3a"
      },
      "source": [
        "from sklearn.neighbors import KNeighborsClassifier\r\n",
        "from sklearn.ensemble import BaggingClassifier\r\n",
        "\r\n",
        "bagging = BaggingClassifier(KNeighborsClassifier(), n_estimators= 5 , n_jobs=-1, random_state=42)\r\n",
        "bagging.fit(X_train_fs, y_train)\r\n",
        "print(bagging.score(X_test_fs, y_test))"
      ],
      "execution_count": null,
      "outputs": [
        {
          "output_type": "stream",
          "text": [
            "0.7596699329551315\n"
          ],
          "name": "stdout"
        }
      ]
    },
    {
      "cell_type": "markdown",
      "metadata": {
        "id": "xwRkNVCiREGB"
      },
      "source": [
        "기존에 사용하던 DecisionTreeClassifier가 가장 최적이라는 것을 알 수 있다."
      ]
    },
    {
      "cell_type": "markdown",
      "metadata": {
        "id": "tmoC-ST96C32"
      },
      "source": [
        "#### n_estimators 변경"
      ]
    },
    {
      "cell_type": "code",
      "metadata": {
        "colab": {
          "base_uri": "https://localhost:8080/"
        },
        "id": "2q74QsITE1gG",
        "outputId": "e3c5c8b7-e4e7-4ff7-cc32-f81fab6ec32c"
      },
      "source": [
        "from sklearn.model_selection import StratifiedKFold \r\n",
        "from sklearn.tree import DecisionTreeClassifier\r\n",
        "from sklearn.ensemble import BaggingClassifier\r\n",
        "import numpy as np\r\n",
        "from pprint import pprint\r\n",
        "\r\n",
        "n_estimators_list = [5, 10, 20, 50, 70, 100, 120]\r\n",
        "scores = []\r\n",
        "\r\n",
        "for n in n_estimators_list:\r\n",
        "  skf = StratifiedKFold(n_splits=5) \r\n",
        "  val_accuracy = np.array([])\r\n",
        "  for train_index, val_index in skf.split(X_train_fs, y_train):\r\n",
        "    X_train_cv, X_val_cv = X_train_fs[train_index], X_train_fs[val_index]\r\n",
        "    y_train_cv, y_val_cv = y_train.iloc[train_index], y_train.iloc[val_index]\r\n",
        "\r\n",
        "    bagging = BaggingClassifier(DecisionTreeClassifier(), n_estimators= n , n_jobs=-1, random_state=42)\r\n",
        "\r\n",
        "    bagging.fit(X_train_cv, y_train_cv)\r\n",
        "    score = bagging.score(X_val_cv, y_val_cv)\r\n",
        "    val_accuracy = np.append(val_accuracy, score)\r\n",
        "  scores = np.append(scores, val_accuracy.mean())\r\n",
        "\r\n",
        "pprint(scores)"
      ],
      "execution_count": null,
      "outputs": [
        {
          "output_type": "stream",
          "text": [
            "array([0.77983939, 0.79774165, 0.81034445, 0.81387792, 0.81542512,\n",
            "       0.8174148 , 0.81807779])\n"
          ],
          "name": "stdout"
        }
      ]
    },
    {
      "cell_type": "code",
      "metadata": {
        "colab": {
          "base_uri": "https://localhost:8080/",
          "height": 282
        },
        "id": "PJh-bAhpHot7",
        "outputId": "c81cf0a1-2722-468e-b7aa-df65a9af549c"
      },
      "source": [
        "import matplotlib.pyplot as plt\r\n",
        "\r\n",
        "plt.plot(n_estimators_list, scores)"
      ],
      "execution_count": null,
      "outputs": [
        {
          "output_type": "execute_result",
          "data": {
            "text/plain": [
              "[<matplotlib.lines.Line2D at 0x7fe200b2b240>]"
            ]
          },
          "metadata": {
            "tags": []
          },
          "execution_count": 91
        },
        {
          "output_type": "display_data",
          "data": {
            "image/png": "[encoded data removed]",
            "text/plain": [
              "<Figure size 432x288 with 1 Axes>"
            ]
          },
          "metadata": {
            "tags": [],
            "needs_background": "light"
          }
        }
      ]
    },
    {
      "cell_type": "code",
      "metadata": {
        "colab": {
          "base_uri": "https://localhost:8080/"
        },
        "id": "UE--P_jZHyo6",
        "outputId": "d6a899d9-f486-4c42-8d37-4dceb3687693"
      },
      "source": [
        "n_estimators_list[np.argmax(scores)]"
      ],
      "execution_count": null,
      "outputs": [
        {
          "output_type": "execute_result",
          "data": {
            "text/plain": [
              "120"
            ]
          },
          "metadata": {
            "tags": []
          },
          "execution_count": 92
        }
      ]
    },
    {
      "cell_type": "code",
      "metadata": {
        "colab": {
          "base_uri": "https://localhost:8080/"
        },
        "id": "YtYzckwzH4Mv",
        "outputId": "300b64e7-14f3-4d3d-b9db-03faeb12caeb"
      },
      "source": [
        "optimal_bagging = BaggingClassifier(DecisionTreeClassifier(), n_estimators= 120 , n_jobs=-1, random_state=42)\r\n",
        "optimal_bagging.fit(X_train_fs, y_train)\r\n",
        "print(optimal_bagging.score(X_test_fs, y_test))"
      ],
      "execution_count": null,
      "outputs": [
        {
          "output_type": "stream",
          "text": [
            "0.8241361526560083\n"
          ],
          "name": "stdout"
        }
      ]
    },
    {
      "cell_type": "markdown",
      "metadata": {
        "id": "PADq6xf0Jcrh"
      },
      "source": [
        "### 3) Random Forest"
      ]
    },
    {
      "cell_type": "markdown",
      "metadata": {
        "id": "KyKOd4yFKqpv"
      },
      "source": [
        "#### n_estimators 변경"
      ]
    },
    {
      "cell_type": "code",
      "metadata": {
        "colab": {
          "base_uri": "https://localhost:8080/"
        },
        "id": "Zof-8Db1Jfut",
        "outputId": "b2350c12-6fbd-4640-bb1d-d1b37797bd56"
      },
      "source": [
        "from sklearn.model_selection import StratifiedKFold \r\n",
        "from sklearn.ensemble import RandomForestClassifier\r\n",
        "import numpy as np\r\n",
        "from pprint import pprint\r\n",
        "\r\n",
        "n_estimators_list = [5, 10, 20, 50, 70, 100, 120]\r\n",
        "scores = []\r\n",
        "\r\n",
        "for n in n_estimators_list:\r\n",
        "  skf = StratifiedKFold(n_splits=5) \r\n",
        "  val_accuracy = np.array([])\r\n",
        "  for train_index, val_index in skf.split(X_train_fs, y_train):\r\n",
        "    X_train_cv, X_val_cv = X_train_fs[train_index], X_train_fs[val_index]\r\n",
        "    y_train_cv, y_val_cv = y_train.iloc[train_index], y_train.iloc[val_index]\r\n",
        "\r\n",
        "    forest =  RandomForestClassifier(n_estimators=n, random_state=42)\r\n",
        "\r\n",
        "    forest.fit(X_train_cv, y_train_cv)\r\n",
        "    score = forest.score(X_val_cv, y_val_cv)\r\n",
        "    val_accuracy = np.append(val_accuracy, score)\r\n",
        "  scores = np.append(scores, val_accuracy.mean())\r\n",
        "\r\n",
        "pprint(scores)"
      ],
      "execution_count": null,
      "outputs": [
        {
          "output_type": "stream",
          "text": [
            "array([0.78602699, 0.79796411, 0.81520559, 0.819404  , 0.81631105,\n",
            "       0.81896372, 0.81940522])\n"
          ],
          "name": "stdout"
        }
      ]
    },
    {
      "cell_type": "code",
      "metadata": {
        "colab": {
          "base_uri": "https://localhost:8080/",
          "height": 282
        },
        "id": "Lcn-bg_GLNUA",
        "outputId": "ca87e88f-2a8e-43b7-f610-916ce5a83a1b"
      },
      "source": [
        "import matplotlib.pyplot as plt\r\n",
        "\r\n",
        "plt.plot(n_estimators_list, scores)"
      ],
      "execution_count": null,
      "outputs": [
        {
          "output_type": "execute_result",
          "data": {
            "text/plain": [
              "[<matplotlib.lines.Line2D at 0x7fe200aa37f0>]"
            ]
          },
          "metadata": {
            "tags": []
          },
          "execution_count": 95
        },
        {
          "output_type": "display_data",
          "data": {
            "image/png": "[encoded data removed]",
            "text/plain": [
              "<Figure size 432x288 with 1 Axes>"
            ]
          },
          "metadata": {
            "tags": [],
            "needs_background": "light"
          }
        }
      ]
    },
    {
      "cell_type": "code",
      "metadata": {
        "colab": {
          "base_uri": "https://localhost:8080/"
        },
        "id": "pVhPhzcaLQlH",
        "outputId": "5c2d843f-8d3f-44a7-b3d8-16fc651b7966"
      },
      "source": [
        "n_estimators_list[np.argmax(scores)]"
      ],
      "execution_count": null,
      "outputs": [
        {
          "output_type": "execute_result",
          "data": {
            "text/plain": [
              "120"
            ]
          },
          "metadata": {
            "tags": []
          },
          "execution_count": 96
        }
      ]
    },
    {
      "cell_type": "code",
      "metadata": {
        "colab": {
          "base_uri": "https://localhost:8080/"
        },
        "id": "EJkuj5_0LTpE",
        "outputId": "4a00d74d-a144-44f9-fa39-7294f95df4d9"
      },
      "source": [
        "optimal_forest =  RandomForestClassifier(n_estimators=120, random_state=42)\r\n",
        "optimal_forest.fit(X_train_fs, y_train)\r\n",
        "print(optimal_forest.score(X_test_fs, y_test))"
      ],
      "execution_count": null,
      "outputs": [
        {
          "output_type": "stream",
          "text": [
            "0.813821557503868\n"
          ],
          "name": "stdout"
        }
      ]
    },
    {
      "cell_type": "markdown",
      "metadata": {
        "id": "6kySWdtzRU5x"
      },
      "source": [
        "#### criterion 변경\r\n",
        "\r\n",
        "default: gini --> entropy"
      ]
    },
    {
      "cell_type": "code",
      "metadata": {
        "colab": {
          "base_uri": "https://localhost:8080/"
        },
        "id": "FNKmDJzLRWwW",
        "outputId": "bafdeae8-efab-42f6-8ad0-c86afe3cc359"
      },
      "source": [
        "forest =  RandomForestClassifier(criterion='entropy', n_estimators=120, random_state=42)\r\n",
        "forest.fit(X_train_fs, y_train)\r\n",
        "print(forest.score(X_test_fs, y_test))"
      ],
      "execution_count": null,
      "outputs": [
        {
          "output_type": "stream",
          "text": [
            "0.8210417741103662\n"
          ],
          "name": "stdout"
        }
      ]
    },
    {
      "cell_type": "markdown",
      "metadata": {
        "id": "pfL-VBCmJSBe"
      },
      "source": [
        "## Section 4. 최종 모델"
      ]
    },
    {
      "cell_type": "markdown",
      "metadata": {
        "id": "PZ6gslCwUja0"
      },
      "source": [
        "가장 정확도가 높게 나온 Bagging을 최종 모델로 선정하였다.\r\n",
        "- estimator : DecisionTreeClassifier\r\n",
        "- n_estimators : 120\r\n",
        "\r\n",
        "★ 최종 정확도 : 82.4%"
      ]
    },
    {
      "cell_type": "markdown",
      "metadata": {
        "id": "yQyokzRMJWxF"
      },
      "source": [
        "## Section 5. 실험 설계 결과 분석\r\n",
        "\r\n",
        "![models](https://user-images.githubusercontent.com/50616334/102675805-1f621980-41de-11eb-966f-bfd7ca0209f3.png)\r\n",
        "\r\n",
        "### **Section 1**\r\n",
        "\r\n",
        "이 섹션에서는 판다스 데이터를 불러오고 데이터 전처리 작업을 진행하였다. 사용한 데이터셋은 wine quality 데이터셋으로 총 13개의 attribute로 구성되어 있고 quality attribute를 class로 설정하였다. quality는 0~10까지의 점수로 매겨져 있는데 classification 모델을 구성할 때 분류 정확도를 좀 더 높이기 위해 binary class로 바꿔주었다. grade라는 새로운 class로 설정하여 quality가 5보다 크면 1, 작으면 0으로 만들어 주고 quality attribute는 삭제하였다. 데이터 셋을 살펴보니 Nan 값이 존재하여 이를 맞춰주었고 Train set과 Test set을 일반적으로 많이 사용하는 8:2 비율로 나누어 주었다. 또한 feature들의 범위가 다양하므로 Min Max Normalization을 통해 정규화 작업을 진행하여 base model을 설계할 때 정규화 하기 전 후를 비교하여 성능 차이를 알아보았다. \r\n",
        "\r\n",
        "최대한 다양한 모델을 비교해 보고자 9개의 classification 모델과 1개의 clustering 모델로 총 10개의 base model을 생성해 보았다. Naive Bayes Classifier와 Decision Tree Classifier을 제외한 모든 모델에서 정규화된 데이터를 사용했을 때 성능이 약간 더 좋아졌다. 또한 앙상블 기법을 쓴 모델(Bagging, Boosting, Random Forest)들이 다른 모델에 비해 성능이 좋게 나온 것을 확인해 볼 수 있었다. Base Case에서 Decision Tree Classifier를 사용한 Bagging이 79.5%의 정확도로 가장 높게 나왔고 그 다음 Random Forest 모델이 78.4% 정도의 정확도가 나왔다.\r\n",
        "\r\n",
        "\r\n",
        "다음으로는 K-Means++ Clustering 결과를 분석해 보도록 하겠다.\r\n",
        "\r\n",
        "![base_clustering](https://user-images.githubusercontent.com/50616334/102682363-53ecca00-420c-11eb-9512-a38cb800d15a.png)\r\n",
        "\r\n",
        "2개의 군집으로 나눈 클러스터링을 해 보았는데 0 레이블은 1000개는 제대로 분류하고 500개는 제대로 분류를 못 한 것을 볼 수 있고 1 레이블은 제대로 분류가 되지 않는 것을 확인할 수 있었다.이는 데이터셋의 불균등성으로 인해 quality class가 5나 6에 편향되어 있어 binary class인 grade로 분류할 때 큰 차이가 없어 이러한 결과가 나온 것이라고 예상된다.\r\n",
        "\r\n",
        "### **Section 2**\r\n",
        "\r\n",
        "이 섹션에서는 RFE (Recursive Feature Elimination)을 사용하여 Feature Selection을 진행하였다. 그러나 초기 데이터셋의 feature들이 총 12개로 그렇게 많은 편은 아니라 n_features_to_select를 11로 하여 가장 관련이 없는 feature 하나만 제거하도록 설계하였고 정확도 향상이 크게 일어나지는 않았다. 처음 시도해 보았을 때는 초기 feature의 개수의 반인 6개의 feature만 선택하도록 하였는데 feature의 수가 너무 적어 정확도가 오히려 감소하는 현상이 발생해 너무 많은 feature를 제거하는 것도 좋지 않다는 것을 알게 되었다. 데이터셋의 feature의 수가 많을수록 feature selection이 효과가 더 크게 작용할 것으로 예상된다.\r\n",
        "\r\n",
        "### **Section 3**\r\n",
        "\r\n",
        "이 섹션에서는 최종 모델 선택을 위해 섹션 1, 2에서 성능이 가장 좋았던 3가지 모델인\r\n",
        "\r\n",
        "- MLP : 76.5 %\r\n",
        "\r\n",
        "- Bagging : 79.2 %\r\n",
        "\r\n",
        "- Random Forest : 79.1 %\r\n",
        "\r\n",
        "를 선택하여 파라미터를 변경해가며 최적화 작업을 진행했다. \r\n",
        "\r\n",
        "Test set으로 Validation을 진행하며 과적합(overfitting)이 발생할 수 있으므로 Cross Validation 기법으로 Stratified KFold를 사용하여 최적의 파라미터를 찾고자 하였다. . \r\n",
        "\r\n",
        "MLP의 경우에는 hidden layer의 개수를 변경해 가며 정확도를 비교해 보았다. 100, 110, 120, 130, 140, 150으로 cross validation을 돌려본 결과 110이 가장 정확도가 높게 나오는 것을 확인할 수 있었다. 다만, base model에서는 활성화하지 않았던 early stopping을 True로 설정해 과적합이 일어나는 것을 방지하고자 하였다. 따라서 Section 1에서 진행했을 때의 정확도인 76.5%에서 74.8%로 떨어졌지만 Section 1에서 높게 나온 이유는 과적합이 되었기 때문이라고 유추할 수 있었다.\r\n",
        "\r\n",
        "Bagging의 경우에는 estimator와 n_estimators 두 가지 파라미터에 대해 값을 변경해 가며 비교해 보았다. estimator는 default가 Decision Tree Classifier이고 이번 섹션에서는 LogisticRegression과 KNN을 사용했을 때 정확도가 어떻게 달라지는지 확인해 보았다.\r\n",
        "- Logistic Regression : 74.8 %\r\n",
        "- KNN : 75.9 %\r\n",
        "\r\n",
        "Decision Tree Classifier를 사용했을 때 79.2 %로 가장 높은 것을 확인하고 최종 estimator로 결정했다. 그 다음 파라미터로는 n_estimators를 바꿔가며 변화를 관찰해 보았다. 5, 10, 20, 50, 70, 100, 120를 cross validation을 통해 검증해 보았는데 120이 가장 정확도가 높게 나오는 것을 볼 수 있었다. 확실히 n_estimators가 높아지면 학습 속도는 오래 걸리지만 정확도가 높아졌다. 이를 통해 다양한 데이터 셋이 반영되기 때문에 과적합이 방지되어 variance가 낮아진다. \r\n",
        "\r\n",
        "Random Forest의 경우에는 n_estimators와 criterion을 변경해 보았다. Bagging과 마찬가지로 n_estimators는 클수록 성능이 대체로 더 좋아지는 것을 볼 수 있었고 따라서 최종으로 120을 선택하였다. criterion은 default인 gini에서 entropy로 바꾸어 보았더니 82.1%로 성능이 약간 개선되었다.\r\n",
        "\r\n",
        "\r\n",
        "### **Section 4**\r\n",
        "\r\n",
        "위의 과정들을 토대로 최적의 모델로 Test set의 정확도가 가장 높은 Decision Tree를 사용한 Bagging으로 결정하였다. \r\n",
        "\r\n",
        "**최종 정확도는 82.4%**로 Base Model의 79.4%와 비교하였을 때 대략 3% 정도의 정확도 향상을 이끌어 낼 수 있었다.\r\n",
        "\r\n",
        "전체적으로 다양한 데이터셋을 사용하다 보니 앙상블 기법을 사용한 모델들의 성능이 뛰어나게 나오는 것을 볼 수 있었고 수업 시간에 배운 데이터 정규화나 다양한 기법들을 통해 정확도가 개선되는 것을 직접 실험해 볼 수 있어 의미 있는 프로젝트라고 생각한다.\r\n"
      ]
    }
  ]
}